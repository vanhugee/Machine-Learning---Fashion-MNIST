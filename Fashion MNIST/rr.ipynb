{
 "cells": [
  {
   "cell_type": "code",
   "execution_count": 1,
   "id": "3c133ea3-61d0-4be2-9158-d7a139e45761",
   "metadata": {},
   "outputs": [
    {
     "name": "stderr",
     "output_type": "stream",
     "text": [
      "/tmp/ipykernel_3532593/2204912472.py:8: DtypeWarning: Columns (0,1,2,3,4,5,6,7,8,9,10,11,12,13,14,15,16,17,18,19,20,21,22,23,24,25,26,27,28,29,30,31,32,33,34,35,36,37,38,39,40,41,42,43,44,45,46,47,48,49,50,51,52,53,54,55,56,57,58,59,60,61,62,63,64,65,66,67,68,69,70,71,72,73,74,75,76,77,78,79,80,81,82,83,84,85,86,87,88,89,90,91,92,93,94,95,96,97,98,99,100,101,102,103,104,105,106,107,108,109,110,111,112,113,114,115,116,117,118,119,120,121,122,123,124,125,126,127,128,129,130,131,132,133,134,135,136,137,138,139,140,141,142,143,144,145,146,147,148,149,150,151,152,153,154,155,156,157,158,159,160,161,162,163,164,165,166,167,168,169,170,171,172,173,174,175,176,177,178,179,180,181,182,183,184,185,186,187,188,189,190,191,192,193,194,195,196,197,198,199,200,201,202,203,204,205,206,207,208,209,210,211,212,213,214,215,216,217,218,219,220,221,222,223,224,225,226,227,228,229,230,231,232,233,234,235,236,237,238,239,240,241,242,243,244,245,246,247,248,249,250,251,252,253,254,255,256,257,258,259,260,261,262,263,264,265,266,267,268,269,270,271,272,273,274,275,276,277,278,279,280,281,282,283,284,285,286,287,288,289,290,291,292,293,294,295,296,297,298,299,300,301,302,303,304,305,306,307,308,309,310,311,312,313,314,315,316,317,318,319,320,321,322,323,324,325,326,327,328,329,330,331,332,333,334,335,336,337,338,339,340,341,342,343,344,345,346,347,348,349,350,351,352,353,354,355,356,357,358,359,360,361,362,363,364,365,366,367,368,369,370,371,372,373,374,375,376,377,378,379,380,381,382,383,384,385,386,387,388,389,390,391,392,393,394,395,396,397,398,399,400,401,402,403,404,405,406,407,408,409,410,411,412,413,414,415,416,417,418,419,420,421,422,423,424,425,426,427,428,429,430,431,432,433,434,435,436,437,438,439,440,441,442,443,444,445,446,447,448,449,450,451,452,453,454,455,456,457,458,459,460,461,462,463,464,465,466,467,468,469,470,471,472,473,474,475,476,477,478,479,480,481,482,483,484,485,486,487,488,489,490,491,492,493,494,495,496,497,498,499,500,501,502,503,504,505,506,507,508,509,510,511,512,513,514,515,516,517,518,519,520,521,522,523,524,525,526,527,528,529,530,531,532,533,534,535,536,537,538,539,540,541,542,543,544,545,546,547,548,549,550,551,552,553,554,555,556,557,558,559,560,561,562,563,564,565,566,567,568,569,570,571,572,573,574,575,576,577,578,579,580,581,582,583,584,585,586,587,588,589,590,591,592,593,594,595,596,597,598,599,600,601,602,603,604,605,606,607,608,609,610,611,612,613,614,615,616,617,618,619,620,621,622,623,624,625,626,627,628,629,630,631,632,633,634,635,636,637,638,639,640,641,642,643,644,645,646,647,648,649,650,651,652,653,654,655,656,657,658,659,660,661,662,663,664,665,666,667,668,669,670,671,672,673,674,675,676,677,678,679,680,681,682,683,684,685,686,687,688,689,690,691,692,693,694,695,696,697,698,699,700,701,702,703,704,705,706,707,708,709,710,711,712,713,714,715,716,717,718,719,720,721,722,723,724,725,726,727,728,729,730,731,732,733,734,735,736,737,738,739,740,741,742,743,744,745,746,747,748,749,750,751,752,753,754,755,756,757,758,759,760,761,762,763,764,765,766,767,768,769,770,771,772,773,774,775,776,777,778,779,780,781,782,783,784,785,786,787,788,789,790,791,792,793,794,795,796,797,798,799,800,801,802,803,804,805,806,807,808,809,810,811,812,813,814,815,816,817,818,819,820,821,822,823,824,825,826,827,828,829,830,831,832,833,834,835,836,837,838,839,840,841,842,843,844,845,846,847,848,849,850,851,852,853,854,855,856,857,858,859,860,861,862,863,864,865,866,867,868,869,870,871,872,873,874,875,876,877,878,879,880,881,882,883,884,885,886,887,888,889,890,891,892,893,894,895,896,897,898,899,900,901,902,903,904,905,906,907,908,909,910,911,912,913,914,915,916,917,918,919,920,921,922,923,924,925,926,927,928,929,930,931,932,933,934,935,936,937,938,939,940,941,942,943,944,945,946,947,948,949,950,951,952,953,954,955,956,957,958,959,960,961,962,963,964,965,966,967,968,969,970,971,972,973,974,975,976,977,978,979,980,981,982,983,984,985,986,987,988,989,990,991,992,993,994,995,996,997,998,999,1000,1001,1002,1003,1004,1005,1006,1007,1008,1009,1010,1011,1012,1013,1014,1015,1016,1017,1018,1019,1020,1021,1022,1023,1024,1025,1026,1027,1028,1029,1030,1031,1032,1033,1034,1035,1036,1037,1038,1039,1040,1041,1042,1043,1044,1045,1046,1047,1048,1049,1050,1051,1052,1053,1054,1055,1056,1057,1058,1059,1060,1061,1062,1063,1064,1065,1066,1067,1068,1069,1070,1071,1072,1073,1074,1075,1076,1077,1078,1079,1080,1081,1082,1083,1084,1085,1086,1087,1088,1089,1090,1091,1092,1093,1094,1095,1096,1097,1098,1099,1100,1101,1102,1103,1104,1105,1106,1107,1108,1109,1110,1111,1112,1113,1114,1115,1116,1117,1118,1119,1120,1121,1122,1123,1124,1125,1126,1127,1128,1129,1130,1131,1132,1133,1134,1135,1136,1137,1138,1139,1140,1141,1142,1143,1144,1145,1146,1147,1148,1149,1150,1151,1152,1153,1154,1155,1156,1157,1158,1159,1160,1161,1162,1163,1164,1165,1166,1167,1168,1169,1170,1171,1172,1173,1174,1175,1176,1177,1178,1179,1180,1181,1182,1183,1184,1185,1186,1187,1188,1189,1190,1191,1192,1193,1194,1195,1196,1197,1198,1199,1200,1201,1202,1203,1204,1205,1206,1207,1208,1209,1210,1211,1212,1213,1214,1215,1216,1217,1218,1219,1220,1221,1222,1223,1224,1225,1226,1227,1228,1229,1230,1231,1232,1233,1234,1235,1236,1237,1238,1239,1240,1241,1242,1243,1244,1245,1246,1247,1248,1249,1250,1251,1252,1253,1254,1255,1256,1257,1258,1259,1260,1261,1262,1263,1264,1265,1266,1267,1268,1269,1270,1271,1272,1273,1274,1275,1276,1277,1278,1279,1280,1281,1282,1283,1284,1285,1286,1287,1288,1289,1290,1291,1292,1293,1294,1295,1296,1297,1298,1299,1300,1301,1302,1303,1304,1305,1306,1307,1308,1309,1310,1311,1312,1313,1314,1315,1316,1317,1318,1319,1320,1321,1322,1323,1324,1325,1326,1327,1328,1329,1330,1331,1332,1333,1334,1335,1336,1337,1338,1339,1340,1341,1342,1343,1344,1345,1346,1347,1348,1349,1350,1351,1352,1353,1354,1355,1356,1357,1358,1359,1360,1361,1362,1363,1364,1365,1366,1367,1368,1369,1370,1371,1372,1373,1374,1375,1376,1377,1378,1379,1380,1381,1382,1383,1384,1385,1386,1387,1388,1389,1390,1391,1392,1393,1394,1395,1396,1397,1398,1399,1400,1401,1402,1403,1404,1405,1406,1407,1408,1409,1410,1411,1412,1413,1414,1415,1416,1417,1418,1419,1420,1421,1422,1423,1424,1425,1426,1427,1428,1429,1430,1431,1432,1433,1434,1435,1436,1437,1438,1439,1440,1441,1442,1443,1444,1445,1446,1447,1448,1449,1450,1451,1452,1453,1454,1455,1456,1457,1458,1459,1460,1461,1462,1463,1464,1465,1466,1467,1468,1469,1470,1471,1472,1473,1474,1475,1476,1477,1478,1479,1480,1481,1482,1483,1484,1485,1486,1487,1488,1489,1490,1491,1492,1493,1494,1495,1496,1497,1498,1499,1500,1501,1502,1503,1504,1505,1506,1507,1508,1509,1510,1511,1512,1513,1514,1515,1516,1517,1518,1519,1520,1521,1522,1523,1524,1525,1526,1527,1528,1529,1530,1531,1532,1533,1534,1535,1536,1537,1538,1539,1540,1541,1542,1543,1544,1545,1546,1547,1548,1549,1550,1551,1552,1553,1554,1555,1556,1557,1558,1559,1560,1561,1562,1563,1564,1565,1566,1567,1568,1569,1570,1571,1572,1573,1574,1575,1576,1577,1578,1579,1580,1581,1582,1583,1584,1585,1586,1587,1588,1589,1590,1591,1592,1593,1594,1595,1596,1597,1598,1599,1600,1601,1602,1603,1604,1605,1606,1607,1608,1609,1610,1611,1612,1613,1614,1615,1616,1617,1618,1619,1620,1621,1622,1623,1624,1625,1626,1627,1628,1629,1630,1631,1632,1633,1634,1635,1636,1637,1638,1639,1640,1641,1642,1643,1644,1645,1646,1647,1648,1649,1650,1651,1652,1653,1654,1655,1656,1657,1658,1659,1660,1661,1662,1663,1664,1665,1666,1667,1668,1669,1670,1671,1672,1673,1674,1675,1676,1677,1678,1679,1680,1681,1682,1683,1684,1685,1686,1687,1688,1689,1690,1691,1692,1693,1694,1695,1696,1697,1698,1699,1700,1701,1702,1703,1704,1705,1706,1707,1708,1709,1710,1711,1712,1713,1714,1715,1716,1717,1718,1719,1720,1721,1722,1723,1724,1725,1726,1727,1728,1729,1730,1731,1732,1733,1734,1735,1736,1737,1738,1739,1740,1741,1742,1743,1744,1745,1746,1747,1748,1749,1750,1751,1752,1753,1754,1755,1756,1757,1758,1759,1760,1761,1762,1763,1764,1765,1766,1767,1768,1769,1770,1771,1772,1773,1774,1775,1776,1777,1778,1779,1780,1781,1782,1783,1784,1785,1786,1787,1788,1789,1790,1791,1792,1793,1794,1795,1796,1797,1798,1799,1800,1801,1802,1803,1804,1805,1806,1807,1808,1809,1810,1811,1812,1813,1814,1815,1816,1817,1818,1819,1820,1821,1822,1823,1824,1825,1826,1827,1828,1829,1830,1831,1832,1833,1834,1835,1836,1837,1838,1839,1840,1841,1842,1843,1844,1845,1846,1847,1848,1849,1850,1851,1852,1853,1854,1855,1856,1857,1858,1859,1860,1861,1862,1863,1864,1865,1866,1867,1868,1869,1870,1871,1872,1873,1874,1875,1876,1877,1878,1879,1880) have mixed types. Specify dtype option on import or set low_memory=False.\n",
      "  main_data = pd.DataFrame(pd.read_csv('mainfile.csv'))\n"
     ]
    },
    {
     "data": {
      "text/plain": [
       "False"
      ]
     },
     "execution_count": 1,
     "metadata": {},
     "output_type": "execute_result"
    }
   ],
   "source": [
    "\"\"\"\n",
    "Dataframe Preprocessing\n",
    "\"\"\"\n",
    "\n",
    "import pandas as pd\n",
    "import numpy as np\n",
    "from sklearn.model_selection import train_test_split\n",
    "main_data = pd.DataFrame(pd.read_csv('mainfile.csv'))\n",
    "main_data.iloc[0, -1] = \"Cancer Type\"\n",
    "main_data.columns = main_data.iloc[0]\n",
    "main_data = main_data.drop(0)\n",
    "for columns in main_data.columns:\n",
    "    main_data[columns] = main_data[columns].astype(float)\n",
    "main_data.isnull().values.any()"
   ]
  },
  {
   "cell_type": "code",
   "execution_count": 2,
   "id": "846211de-af56-477f-ab92-d785d3086043",
   "metadata": {},
   "outputs": [
    {
     "data": {
      "text/html": [
       "<div>\n",
       "<style scoped>\n",
       "    .dataframe tbody tr th:only-of-type {\n",
       "        vertical-align: middle;\n",
       "    }\n",
       "\n",
       "    .dataframe tbody tr th {\n",
       "        vertical-align: top;\n",
       "    }\n",
       "\n",
       "    .dataframe thead th {\n",
       "        text-align: right;\n",
       "    }\n",
       "</style>\n",
       "<table border=\"1\" class=\"dataframe\">\n",
       "  <thead>\n",
       "    <tr style=\"text-align: right;\">\n",
       "      <th></th>\n",
       "      <th>hsa-let-7a-1</th>\n",
       "      <th>hsa-let-7a-2</th>\n",
       "      <th>hsa-let-7a-3</th>\n",
       "      <th>hsa-let-7b</th>\n",
       "      <th>hsa-let-7c</th>\n",
       "      <th>hsa-let-7d</th>\n",
       "      <th>hsa-let-7e</th>\n",
       "      <th>hsa-let-7f-1</th>\n",
       "      <th>hsa-let-7f-2</th>\n",
       "      <th>hsa-let-7g</th>\n",
       "      <th>...</th>\n",
       "      <th>hsa-mir-942</th>\n",
       "      <th>hsa-mir-943</th>\n",
       "      <th>hsa-mir-944</th>\n",
       "      <th>hsa-mir-95</th>\n",
       "      <th>hsa-mir-9500</th>\n",
       "      <th>hsa-mir-96</th>\n",
       "      <th>hsa-mir-98</th>\n",
       "      <th>hsa-mir-99a</th>\n",
       "      <th>hsa-mir-99b</th>\n",
       "      <th>Cancer Type</th>\n",
       "    </tr>\n",
       "  </thead>\n",
       "  <tbody>\n",
       "    <tr>\n",
       "      <th>1</th>\n",
       "      <td>9762.468089</td>\n",
       "      <td>9801.131329</td>\n",
       "      <td>9824.758865</td>\n",
       "      <td>21127.312679</td>\n",
       "      <td>2029.820098</td>\n",
       "      <td>637.943459</td>\n",
       "      <td>1523.976042</td>\n",
       "      <td>3418.474800</td>\n",
       "      <td>3656.898113</td>\n",
       "      <td>585.318494</td>\n",
       "      <td>...</td>\n",
       "      <td>4.295916</td>\n",
       "      <td>0.0</td>\n",
       "      <td>0.000000</td>\n",
       "      <td>5.369894</td>\n",
       "      <td>0.0</td>\n",
       "      <td>93.436163</td>\n",
       "      <td>41.885177</td>\n",
       "      <td>483.290499</td>\n",
       "      <td>53267.204873</td>\n",
       "      <td>0.0</td>\n",
       "    </tr>\n",
       "    <tr>\n",
       "      <th>2</th>\n",
       "      <td>8220.339940</td>\n",
       "      <td>8154.433122</td>\n",
       "      <td>8193.279962</td>\n",
       "      <td>15446.184178</td>\n",
       "      <td>3133.147046</td>\n",
       "      <td>210.752407</td>\n",
       "      <td>495.712239</td>\n",
       "      <td>2499.478722</td>\n",
       "      <td>2502.383934</td>\n",
       "      <td>388.717417</td>\n",
       "      <td>...</td>\n",
       "      <td>3.569261</td>\n",
       "      <td>0.0</td>\n",
       "      <td>1.079079</td>\n",
       "      <td>1.577115</td>\n",
       "      <td>0.0</td>\n",
       "      <td>18.012317</td>\n",
       "      <td>50.384683</td>\n",
       "      <td>1899.842886</td>\n",
       "      <td>17464.061693</td>\n",
       "      <td>0.0</td>\n",
       "    </tr>\n",
       "    <tr>\n",
       "      <th>3</th>\n",
       "      <td>14243.267640</td>\n",
       "      <td>14349.652905</td>\n",
       "      <td>14338.369619</td>\n",
       "      <td>61421.371618</td>\n",
       "      <td>5540.093275</td>\n",
       "      <td>591.029251</td>\n",
       "      <td>945.109502</td>\n",
       "      <td>3503.728857</td>\n",
       "      <td>3548.324701</td>\n",
       "      <td>517.956543</td>\n",
       "      <td>...</td>\n",
       "      <td>11.283286</td>\n",
       "      <td>0.0</td>\n",
       "      <td>0.000000</td>\n",
       "      <td>1.074599</td>\n",
       "      <td>0.0</td>\n",
       "      <td>11.283286</td>\n",
       "      <td>66.625116</td>\n",
       "      <td>1590.943283</td>\n",
       "      <td>43478.798169</td>\n",
       "      <td>0.0</td>\n",
       "    </tr>\n",
       "    <tr>\n",
       "      <th>4</th>\n",
       "      <td>7784.377696</td>\n",
       "      <td>7751.839493</td>\n",
       "      <td>7914.220620</td>\n",
       "      <td>14296.356713</td>\n",
       "      <td>3641.489741</td>\n",
       "      <td>544.472596</td>\n",
       "      <td>1268.989915</td>\n",
       "      <td>2073.458247</td>\n",
       "      <td>2083.994427</td>\n",
       "      <td>491.791696</td>\n",
       "      <td>...</td>\n",
       "      <td>3.408764</td>\n",
       "      <td>0.0</td>\n",
       "      <td>0.000000</td>\n",
       "      <td>0.929663</td>\n",
       "      <td>0.0</td>\n",
       "      <td>62.597305</td>\n",
       "      <td>57.019327</td>\n",
       "      <td>1497.686999</td>\n",
       "      <td>96845.467707</td>\n",
       "      <td>0.0</td>\n",
       "    </tr>\n",
       "    <tr>\n",
       "      <th>5</th>\n",
       "      <td>8412.090225</td>\n",
       "      <td>8437.257857</td>\n",
       "      <td>8469.289388</td>\n",
       "      <td>25113.228921</td>\n",
       "      <td>3612.444911</td>\n",
       "      <td>243.287106</td>\n",
       "      <td>624.869077</td>\n",
       "      <td>1900.537520</td>\n",
       "      <td>1923.671403</td>\n",
       "      <td>124.058629</td>\n",
       "      <td>...</td>\n",
       "      <td>1.525311</td>\n",
       "      <td>0.0</td>\n",
       "      <td>1.271093</td>\n",
       "      <td>1.016874</td>\n",
       "      <td>0.0</td>\n",
       "      <td>9.660303</td>\n",
       "      <td>23.133884</td>\n",
       "      <td>1233.213952</td>\n",
       "      <td>24610.638943</td>\n",
       "      <td>0.0</td>\n",
       "    </tr>\n",
       "    <tr>\n",
       "      <th>...</th>\n",
       "      <td>...</td>\n",
       "      <td>...</td>\n",
       "      <td>...</td>\n",
       "      <td>...</td>\n",
       "      <td>...</td>\n",
       "      <td>...</td>\n",
       "      <td>...</td>\n",
       "      <td>...</td>\n",
       "      <td>...</td>\n",
       "      <td>...</td>\n",
       "      <td>...</td>\n",
       "      <td>...</td>\n",
       "      <td>...</td>\n",
       "      <td>...</td>\n",
       "      <td>...</td>\n",
       "      <td>...</td>\n",
       "      <td>...</td>\n",
       "      <td>...</td>\n",
       "      <td>...</td>\n",
       "      <td>...</td>\n",
       "      <td>...</td>\n",
       "    </tr>\n",
       "    <tr>\n",
       "      <th>2891</th>\n",
       "      <td>25038.000353</td>\n",
       "      <td>24992.738502</td>\n",
       "      <td>25001.648315</td>\n",
       "      <td>13080.318401</td>\n",
       "      <td>10602.321185</td>\n",
       "      <td>3659.794825</td>\n",
       "      <td>1648.671814</td>\n",
       "      <td>8929.771071</td>\n",
       "      <td>9150.021651</td>\n",
       "      <td>1752.382039</td>\n",
       "      <td>...</td>\n",
       "      <td>12.473738</td>\n",
       "      <td>0.0</td>\n",
       "      <td>0.000000</td>\n",
       "      <td>5.345888</td>\n",
       "      <td>0.0</td>\n",
       "      <td>0.000000</td>\n",
       "      <td>116.540355</td>\n",
       "      <td>2876.444058</td>\n",
       "      <td>37650.375370</td>\n",
       "      <td>5.0</td>\n",
       "    </tr>\n",
       "    <tr>\n",
       "      <th>2892</th>\n",
       "      <td>16255.843314</td>\n",
       "      <td>16274.098157</td>\n",
       "      <td>16324.722411</td>\n",
       "      <td>23178.851257</td>\n",
       "      <td>1869.239433</td>\n",
       "      <td>821.562018</td>\n",
       "      <td>1517.880760</td>\n",
       "      <td>4620.545336</td>\n",
       "      <td>4719.441417</td>\n",
       "      <td>629.603878</td>\n",
       "      <td>...</td>\n",
       "      <td>4.893051</td>\n",
       "      <td>0.0</td>\n",
       "      <td>0.376389</td>\n",
       "      <td>0.940971</td>\n",
       "      <td>0.0</td>\n",
       "      <td>1.035068</td>\n",
       "      <td>52.600294</td>\n",
       "      <td>1047.112832</td>\n",
       "      <td>26813.352796</td>\n",
       "      <td>5.0</td>\n",
       "    </tr>\n",
       "    <tr>\n",
       "      <th>2893</th>\n",
       "      <td>71461.746481</td>\n",
       "      <td>71109.762384</td>\n",
       "      <td>71618.246182</td>\n",
       "      <td>98547.413520</td>\n",
       "      <td>21334.723694</td>\n",
       "      <td>1212.732457</td>\n",
       "      <td>5259.567937</td>\n",
       "      <td>23548.156753</td>\n",
       "      <td>23722.606242</td>\n",
       "      <td>1811.526119</td>\n",
       "      <td>...</td>\n",
       "      <td>4.487447</td>\n",
       "      <td>0.0</td>\n",
       "      <td>0.280465</td>\n",
       "      <td>3.646050</td>\n",
       "      <td>0.0</td>\n",
       "      <td>6.450705</td>\n",
       "      <td>119.478267</td>\n",
       "      <td>4072.077368</td>\n",
       "      <td>18096.750472</td>\n",
       "      <td>5.0</td>\n",
       "    </tr>\n",
       "    <tr>\n",
       "      <th>2894</th>\n",
       "      <td>35788.335585</td>\n",
       "      <td>35634.922849</td>\n",
       "      <td>35860.061020</td>\n",
       "      <td>53661.251396</td>\n",
       "      <td>6595.087339</td>\n",
       "      <td>2487.809997</td>\n",
       "      <td>3222.663644</td>\n",
       "      <td>9423.925214</td>\n",
       "      <td>9775.579083</td>\n",
       "      <td>992.865976</td>\n",
       "      <td>...</td>\n",
       "      <td>3.320622</td>\n",
       "      <td>0.0</td>\n",
       "      <td>0.000000</td>\n",
       "      <td>0.664124</td>\n",
       "      <td>0.0</td>\n",
       "      <td>1.992373</td>\n",
       "      <td>93.641540</td>\n",
       "      <td>1264.492855</td>\n",
       "      <td>92885.766619</td>\n",
       "      <td>5.0</td>\n",
       "    </tr>\n",
       "    <tr>\n",
       "      <th>2895</th>\n",
       "      <td>27275.232226</td>\n",
       "      <td>27303.992803</td>\n",
       "      <td>27297.498479</td>\n",
       "      <td>21841.957228</td>\n",
       "      <td>12729.493168</td>\n",
       "      <td>4477.372384</td>\n",
       "      <td>3279.324269</td>\n",
       "      <td>12017.591577</td>\n",
       "      <td>12376.944161</td>\n",
       "      <td>1613.684839</td>\n",
       "      <td>...</td>\n",
       "      <td>7.112831</td>\n",
       "      <td>0.0</td>\n",
       "      <td>0.309254</td>\n",
       "      <td>1.855521</td>\n",
       "      <td>0.0</td>\n",
       "      <td>6.185070</td>\n",
       "      <td>138.854828</td>\n",
       "      <td>2350.017457</td>\n",
       "      <td>80555.901748</td>\n",
       "      <td>5.0</td>\n",
       "    </tr>\n",
       "  </tbody>\n",
       "</table>\n",
       "<p>2895 rows × 1882 columns</p>\n",
       "</div>"
      ],
      "text/plain": [
       "0     hsa-let-7a-1  hsa-let-7a-2  hsa-let-7a-3    hsa-let-7b    hsa-let-7c  \\\n",
       "1      9762.468089   9801.131329   9824.758865  21127.312679   2029.820098   \n",
       "2      8220.339940   8154.433122   8193.279962  15446.184178   3133.147046   \n",
       "3     14243.267640  14349.652905  14338.369619  61421.371618   5540.093275   \n",
       "4      7784.377696   7751.839493   7914.220620  14296.356713   3641.489741   \n",
       "5      8412.090225   8437.257857   8469.289388  25113.228921   3612.444911   \n",
       "...            ...           ...           ...           ...           ...   \n",
       "2891  25038.000353  24992.738502  25001.648315  13080.318401  10602.321185   \n",
       "2892  16255.843314  16274.098157  16324.722411  23178.851257   1869.239433   \n",
       "2893  71461.746481  71109.762384  71618.246182  98547.413520  21334.723694   \n",
       "2894  35788.335585  35634.922849  35860.061020  53661.251396   6595.087339   \n",
       "2895  27275.232226  27303.992803  27297.498479  21841.957228  12729.493168   \n",
       "\n",
       "0      hsa-let-7d   hsa-let-7e  hsa-let-7f-1  hsa-let-7f-2   hsa-let-7g  ...  \\\n",
       "1      637.943459  1523.976042   3418.474800   3656.898113   585.318494  ...   \n",
       "2      210.752407   495.712239   2499.478722   2502.383934   388.717417  ...   \n",
       "3      591.029251   945.109502   3503.728857   3548.324701   517.956543  ...   \n",
       "4      544.472596  1268.989915   2073.458247   2083.994427   491.791696  ...   \n",
       "5      243.287106   624.869077   1900.537520   1923.671403   124.058629  ...   \n",
       "...           ...          ...           ...           ...          ...  ...   \n",
       "2891  3659.794825  1648.671814   8929.771071   9150.021651  1752.382039  ...   \n",
       "2892   821.562018  1517.880760   4620.545336   4719.441417   629.603878  ...   \n",
       "2893  1212.732457  5259.567937  23548.156753  23722.606242  1811.526119  ...   \n",
       "2894  2487.809997  3222.663644   9423.925214   9775.579083   992.865976  ...   \n",
       "2895  4477.372384  3279.324269  12017.591577  12376.944161  1613.684839  ...   \n",
       "\n",
       "0     hsa-mir-942  hsa-mir-943  hsa-mir-944  hsa-mir-95  hsa-mir-9500  \\\n",
       "1        4.295916          0.0     0.000000    5.369894           0.0   \n",
       "2        3.569261          0.0     1.079079    1.577115           0.0   \n",
       "3       11.283286          0.0     0.000000    1.074599           0.0   \n",
       "4        3.408764          0.0     0.000000    0.929663           0.0   \n",
       "5        1.525311          0.0     1.271093    1.016874           0.0   \n",
       "...           ...          ...          ...         ...           ...   \n",
       "2891    12.473738          0.0     0.000000    5.345888           0.0   \n",
       "2892     4.893051          0.0     0.376389    0.940971           0.0   \n",
       "2893     4.487447          0.0     0.280465    3.646050           0.0   \n",
       "2894     3.320622          0.0     0.000000    0.664124           0.0   \n",
       "2895     7.112831          0.0     0.309254    1.855521           0.0   \n",
       "\n",
       "0     hsa-mir-96  hsa-mir-98  hsa-mir-99a   hsa-mir-99b  Cancer Type  \n",
       "1      93.436163   41.885177   483.290499  53267.204873          0.0  \n",
       "2      18.012317   50.384683  1899.842886  17464.061693          0.0  \n",
       "3      11.283286   66.625116  1590.943283  43478.798169          0.0  \n",
       "4      62.597305   57.019327  1497.686999  96845.467707          0.0  \n",
       "5       9.660303   23.133884  1233.213952  24610.638943          0.0  \n",
       "...          ...         ...          ...           ...          ...  \n",
       "2891    0.000000  116.540355  2876.444058  37650.375370          5.0  \n",
       "2892    1.035068   52.600294  1047.112832  26813.352796          5.0  \n",
       "2893    6.450705  119.478267  4072.077368  18096.750472          5.0  \n",
       "2894    1.992373   93.641540  1264.492855  92885.766619          5.0  \n",
       "2895    6.185070  138.854828  2350.017457  80555.901748          5.0  \n",
       "\n",
       "[2895 rows x 1882 columns]"
      ]
     },
     "execution_count": 2,
     "metadata": {},
     "output_type": "execute_result"
    }
   ],
   "source": [
    "main_data"
   ]
  },
  {
   "cell_type": "code",
   "execution_count": null,
   "id": "6c892876-ceb0-4bd4-a99e-4933128d4d98",
   "metadata": {},
   "outputs": [],
   "source": []
  },
  {
   "cell_type": "code",
   "execution_count": 3,
   "id": "4321edee-31f5-4e7f-bd00-4b461ec14b3d",
   "metadata": {},
   "outputs": [],
   "source": [
    "\"\"\"\n",
    "Train Test Split\n",
    "\"\"\"\n",
    "X_data = main_data.iloc[:, :-1]\n",
    "y_data = main_data.iloc[:, -1]\n",
    "X_train, X_test, y_train, y_test = train_test_split(X_data, y_data, test_size=0.25, random_state=42, stratify=y_data)\n"
   ]
  },
  {
   "cell_type": "code",
   "execution_count": 17,
   "id": "a9e0eecd-b401-4d0a-a49c-4e407146b818",
   "metadata": {},
   "outputs": [
    {
     "data": {
      "text/plain": [
       "0.0    274\n",
       "1.0    136\n",
       "2.0    130\n",
       "3.0    120\n",
       "4.0     44\n",
       "5.0     20\n",
       "Name: Cancer Type, dtype: int64"
      ]
     },
     "execution_count": 17,
     "metadata": {},
     "output_type": "execute_result"
    }
   ],
   "source": [
    "\"\"\"\n",
    "Examine the Class Count of the Test Set\n",
    "\"\"\"\n",
    "\n",
    "test_class_count = y_test.value_counts()\n",
    "test_class_count"
   ]
  },
  {
   "cell_type": "code",
   "execution_count": 6,
   "id": "38c1b146-22e7-4f85-8ade-3c614ba04b9a",
   "metadata": {},
   "outputs": [
    {
     "data": {
      "text/html": [
       "<style>#sk-container-id-2 {color: black;background-color: white;}#sk-container-id-2 pre{padding: 0;}#sk-container-id-2 div.sk-toggleable {background-color: white;}#sk-container-id-2 label.sk-toggleable__label {cursor: pointer;display: block;width: 100%;margin-bottom: 0;padding: 0.3em;box-sizing: border-box;text-align: center;}#sk-container-id-2 label.sk-toggleable__label-arrow:before {content: \"▸\";float: left;margin-right: 0.25em;color: #696969;}#sk-container-id-2 label.sk-toggleable__label-arrow:hover:before {color: black;}#sk-container-id-2 div.sk-estimator:hover label.sk-toggleable__label-arrow:before {color: black;}#sk-container-id-2 div.sk-toggleable__content {max-height: 0;max-width: 0;overflow: hidden;text-align: left;background-color: #f0f8ff;}#sk-container-id-2 div.sk-toggleable__content pre {margin: 0.2em;color: black;border-radius: 0.25em;background-color: #f0f8ff;}#sk-container-id-2 input.sk-toggleable__control:checked~div.sk-toggleable__content {max-height: 200px;max-width: 100%;overflow: auto;}#sk-container-id-2 input.sk-toggleable__control:checked~label.sk-toggleable__label-arrow:before {content: \"▾\";}#sk-container-id-2 div.sk-estimator input.sk-toggleable__control:checked~label.sk-toggleable__label {background-color: #d4ebff;}#sk-container-id-2 div.sk-label input.sk-toggleable__control:checked~label.sk-toggleable__label {background-color: #d4ebff;}#sk-container-id-2 input.sk-hidden--visually {border: 0;clip: rect(1px 1px 1px 1px);clip: rect(1px, 1px, 1px, 1px);height: 1px;margin: -1px;overflow: hidden;padding: 0;position: absolute;width: 1px;}#sk-container-id-2 div.sk-estimator {font-family: monospace;background-color: #f0f8ff;border: 1px dotted black;border-radius: 0.25em;box-sizing: border-box;margin-bottom: 0.5em;}#sk-container-id-2 div.sk-estimator:hover {background-color: #d4ebff;}#sk-container-id-2 div.sk-parallel-item::after {content: \"\";width: 100%;border-bottom: 1px solid gray;flex-grow: 1;}#sk-container-id-2 div.sk-label:hover label.sk-toggleable__label {background-color: #d4ebff;}#sk-container-id-2 div.sk-serial::before {content: \"\";position: absolute;border-left: 1px solid gray;box-sizing: border-box;top: 0;bottom: 0;left: 50%;z-index: 0;}#sk-container-id-2 div.sk-serial {display: flex;flex-direction: column;align-items: center;background-color: white;padding-right: 0.2em;padding-left: 0.2em;position: relative;}#sk-container-id-2 div.sk-item {position: relative;z-index: 1;}#sk-container-id-2 div.sk-parallel {display: flex;align-items: stretch;justify-content: center;background-color: white;position: relative;}#sk-container-id-2 div.sk-item::before, #sk-container-id-2 div.sk-parallel-item::before {content: \"\";position: absolute;border-left: 1px solid gray;box-sizing: border-box;top: 0;bottom: 0;left: 50%;z-index: -1;}#sk-container-id-2 div.sk-parallel-item {display: flex;flex-direction: column;z-index: 1;position: relative;background-color: white;}#sk-container-id-2 div.sk-parallel-item:first-child::after {align-self: flex-end;width: 50%;}#sk-container-id-2 div.sk-parallel-item:last-child::after {align-self: flex-start;width: 50%;}#sk-container-id-2 div.sk-parallel-item:only-child::after {width: 0;}#sk-container-id-2 div.sk-dashed-wrapped {border: 1px dashed gray;margin: 0 0.4em 0.5em 0.4em;box-sizing: border-box;padding-bottom: 0.4em;background-color: white;}#sk-container-id-2 div.sk-label label {font-family: monospace;font-weight: bold;display: inline-block;line-height: 1.2em;}#sk-container-id-2 div.sk-label-container {text-align: center;}#sk-container-id-2 div.sk-container {/* jupyter's `normalize.less` sets `[hidden] { display: none; }` but bootstrap.min.css set `[hidden] { display: none !important; }` so we also need the `!important` here to be able to override the default hidden behavior on the sphinx rendered scikit-learn.org. See: https://github.com/scikit-learn/scikit-learn/issues/21755 */display: inline-block !important;position: relative;}#sk-container-id-2 div.sk-text-repr-fallback {display: none;}</style><div id=\"sk-container-id-2\" class=\"sk-top-container\"><div class=\"sk-text-repr-fallback\"><pre>RandomForestClassifier(n_jobs=-1)</pre><b>In a Jupyter environment, please rerun this cell to show the HTML representation or trust the notebook. <br />On GitHub, the HTML representation is unable to render, please try loading this page with nbviewer.org.</b></div><div class=\"sk-container\" hidden><div class=\"sk-item\"><div class=\"sk-estimator sk-toggleable\"><input class=\"sk-toggleable__control sk-hidden--visually\" id=\"sk-estimator-id-2\" type=\"checkbox\" checked><label for=\"sk-estimator-id-2\" class=\"sk-toggleable__label sk-toggleable__label-arrow\">RandomForestClassifier</label><div class=\"sk-toggleable__content\"><pre>RandomForestClassifier(n_jobs=-1)</pre></div></div></div></div></div>"
      ],
      "text/plain": [
       "RandomForestClassifier(n_jobs=-1)"
      ]
     },
     "execution_count": 6,
     "metadata": {},
     "output_type": "execute_result"
    }
   ],
   "source": [
    "\"\"\"\n",
    "Baseline Random Forest without any hyperparameters tuning and model specifications\n",
    "\"\"\"\n",
    "\n",
    "from sklearn.ensemble import RandomForestClassifier\n",
    "from sklearn.model_selection import cross_val_score\n",
    "from sklearn.model_selection import StratifiedKFold, KFold\n",
    "\n",
    "baseline_rr = RandomForestClassifier(n_jobs = -1)\n",
    "skf = StratifiedKFold(n_splits=10)\n",
    "#print(\"Cross validation accuracy is: \", cross_val_score(baseline_rr, X_train, y_train, cv=skf))\n",
    "baseline_rr.fit(X_train, y_train)\n",
    "#print(\"Test score is: \", baseline_rr.score(X_test, y_test))"
   ]
  },
  {
   "cell_type": "code",
   "execution_count": 31,
   "id": "29510791-c917-4ba4-99cd-0441a0550324",
   "metadata": {},
   "outputs": [
    {
     "data": {
      "text/plain": [
       "0.9659197564790937"
      ]
     },
     "execution_count": 31,
     "metadata": {},
     "output_type": "execute_result"
    }
   ],
   "source": []
  },
  {
   "cell_type": "code",
   "execution_count": 64,
   "id": "f9292ebc-1b16-4690-bdc3-6f0736fec4c6",
   "metadata": {},
   "outputs": [
    {
     "data": {
      "image/png": "[encoded data removed]",
      "text/plain": [
       "<Figure size 576x432 with 2 Axes>"
      ]
     },
     "metadata": {},
     "output_type": "display_data"
    },
    {
     "data": {
      "text/plain": [
       "array([0.99635036, 0.99264706, 1.        , 0.925     , 0.95454545,\n",
       "       1.        ])"
      ]
     },
     "execution_count": 64,
     "metadata": {},
     "output_type": "execute_result"
    }
   ],
   "source": [
    "\"\"\"\n",
    "Confusion Matrix for the baseline Random Forest Classifer\n",
    "\"\"\"\n",
    "import matplotlib.pyplot as plt\n",
    "from sklearn.metrics import confusion_matrix, ConfusionMatrixDisplay\n",
    "\n",
    "y_pred_base_rr = baseline_rr.predict(X_test)\n",
    "cm_baseline_rr = confusion_matrix(y_test, y_pred_base_rr)\n",
    "disp = ConfusionMatrixDisplay(confusion_matrix=cm_baseline_rr,\n",
    "                               display_labels=baseline_rr.classes_)\n",
    "fig, ax = plt.subplots(figsize=(8, 6))\n",
    "disp.plot(ax=ax)\n",
    "plt.grid(False)\n",
    "#plt.savefig('confusion_matrix.png', dpi=300)\n",
    "plt.show()\n",
    "\n",
    "# Accuracy by class\n",
    "cm_baseline_rr.diagonal()/cm_baseline_rr.sum(axis=1)"
   ]
  },
  {
   "cell_type": "code",
   "execution_count": 4,
   "id": "9bac17a8-91d8-4b55-afdc-eb01f322d143",
   "metadata": {},
   "outputs": [],
   "source": [
    "#Build a simple neuron network with no hidden layer (1 input layer and 1 output layer) - perceptron\n",
    "#import tensorflow as tf\n",
    "\n",
    "#simple_perceptron = tf.keras.Sequential([\n",
    "#    tf.keras.layers.Input(shape=(1882,)), # input layer\n",
    "#    tf.keras.layers.Dense(units=6, activation='linear') # output layer\n",
    "#])\n",
    "#\n",
    "#simple_perceptron.compile(loss=tf.keras.losses.Hinge(),  metrics=['accuracy'])\n",
    "#simple_perceptron.fit(X_train, y_train, epochs=10)\n"
   ]
  },
  {
   "cell_type": "code",
   "execution_count": 67,
   "id": "87e20f35-1dc1-44b8-be40-a3a841f97fac",
   "metadata": {},
   "outputs": [
    {
     "data": {
      "text/plain": [
       "'\\n# Sort the feature importances in descending order\\nsorted_idx = impurity_importances.argsort()[::-1]\\n\\n# Select the top 10 features\\ntop_10 = sorted_idx[:10]\\n\\n# Plot sorted feature importances\\nfig, ax = plt.subplots()\\nax.bar(range(len(top_10)), impurity_importances[top_10])\\nax.set_xticks(range(len(top_10)))\\nax.set_xticklabels(np.array(feature_names)[top_10], rotation=90)\\nax.set_title(\"Top 10 Feature Importances\")\\nax.set_ylabel(\"Feature Importance\")\\nplt.show()\\n'"
      ]
     },
     "execution_count": 67,
     "metadata": {},
     "output_type": "execute_result"
    },
    {
     "data": {
      "image/png": "[encoded data removed]",
      "text/plain": [
       "<Figure size 432x288 with 1 Axes>"
      ]
     },
     "metadata": {},
     "output_type": "display_data"
    }
   ],
   "source": [
    "\"\"\"\n",
    "Feature Importance with a forest of tree\n",
    "\"\"\"\n",
    "#Calculate Feature Importance with Impunity Based method\n",
    "import seaborn as sns\n",
    "\n",
    "impurity_importances = baseline_rr.feature_importances_\n",
    "impurity_std = np.std([tree.feature_importances_ for tree in baseline_rr.estimators_], axis=0)\n",
    "\n",
    "# Define feature names and the color palette\n",
    "feature_names = [f\"feature {i}\" for i in range(X_data.shape[1])]\n",
    "colors = sns.color_palette('husl', as_cmap=True)\n",
    "\n",
    "# Plot feature importances\n",
    "fig, ax = plt.subplots()\n",
    "forest_importances = pd.Series(impurity_importances, index=feature_names)\n",
    "forest_importances.plot.bar(yerr=impurity_std, ax=ax, color=colors)\n",
    "ax.set_title(\"Feature importances using MDI\")\n",
    "ax.set_ylabel(\"Mean decrease in impurity\")\n",
    "fig.tight_layout()\n",
    "\"\"\"\n",
    "# Sort the feature importances in descending order\n",
    "sorted_idx = impurity_importances.argsort()[::-1]\n",
    "\n",
    "# Select the top 10 features\n",
    "top_10 = sorted_idx[:10]\n",
    "\n",
    "# Plot sorted feature importances\n",
    "fig, ax = plt.subplots()\n",
    "ax.bar(range(len(top_10)), impurity_importances[top_10])\n",
    "ax.set_xticks(range(len(top_10)))\n",
    "ax.set_xticklabels(np.array(feature_names)[top_10], rotation=90)\n",
    "ax.set_title(\"Top 10 Feature Importances\")\n",
    "ax.set_ylabel(\"Feature Importance\")\n",
    "plt.show()\n",
    "\"\"\""
   ]
  },
  {
   "cell_type": "code",
   "execution_count": 41,
   "id": "a3b9f802-a29a-4e36-b77a-008e2fc96c69",
   "metadata": {},
   "outputs": [
    {
     "ename": "ConversionError",
     "evalue": "Failed to convert value(s) to axis units: 'Std'",
     "output_type": "error",
     "traceback": [
      "\u001b[0;31m---------------------------------------------------------------------------\u001b[0m",
      "\u001b[0;31mTypeError\u001b[0m                                 Traceback (most recent call last)",
      "File \u001b[0;32m/opt/pub/eb/apps/all/DavidsonJupyter/2021-common-GCCcore-10.2.0/lib/python3.8/site-packages/matplotlib/axes/_axes.py:2162\u001b[0m, in \u001b[0;36mAxes._convert_dx\u001b[0;34m(dx, x0, xconv, convert)\u001b[0m\n\u001b[1;32m   2161\u001b[0m     delist \u001b[38;5;241m=\u001b[39m \u001b[38;5;28;01mTrue\u001b[39;00m\n\u001b[0;32m-> 2162\u001b[0m dx \u001b[38;5;241m=\u001b[39m [convert(x0 \u001b[38;5;241m+\u001b[39m ddx) \u001b[38;5;241m-\u001b[39m x \u001b[38;5;28;01mfor\u001b[39;00m ddx \u001b[38;5;129;01min\u001b[39;00m dx]\n\u001b[1;32m   2163\u001b[0m \u001b[38;5;28;01mif\u001b[39;00m delist:\n",
      "File \u001b[0;32m/opt/pub/eb/apps/all/DavidsonJupyter/2021-common-GCCcore-10.2.0/lib/python3.8/site-packages/matplotlib/axes/_axes.py:2162\u001b[0m, in \u001b[0;36m<listcomp>\u001b[0;34m(.0)\u001b[0m\n\u001b[1;32m   2161\u001b[0m     delist \u001b[38;5;241m=\u001b[39m \u001b[38;5;28;01mTrue\u001b[39;00m\n\u001b[0;32m-> 2162\u001b[0m dx \u001b[38;5;241m=\u001b[39m [convert(\u001b[43mx0\u001b[49m\u001b[43m \u001b[49m\u001b[38;5;241;43m+\u001b[39;49m\u001b[43m \u001b[49m\u001b[43mddx\u001b[49m) \u001b[38;5;241m-\u001b[39m x \u001b[38;5;28;01mfor\u001b[39;00m ddx \u001b[38;5;129;01min\u001b[39;00m dx]\n\u001b[1;32m   2163\u001b[0m \u001b[38;5;28;01mif\u001b[39;00m delist:\n",
      "\u001b[0;31mTypeError\u001b[0m: unsupported operand type(s) for +: 'int' and 'str'",
      "\nDuring handling of the above exception, another exception occurred:\n",
      "\u001b[0;31mValueError\u001b[0m                                Traceback (most recent call last)",
      "File \u001b[0;32m/opt/pub/eb/apps/all/DavidsonJupyter/2021-common-GCCcore-10.2.0/lib/python3.8/site-packages/matplotlib/axis.py:1506\u001b[0m, in \u001b[0;36mAxis.convert_units\u001b[0;34m(self, x)\u001b[0m\n\u001b[1;32m   1505\u001b[0m \u001b[38;5;28;01mtry\u001b[39;00m:\n\u001b[0;32m-> 1506\u001b[0m     ret \u001b[38;5;241m=\u001b[39m \u001b[38;5;28;43mself\u001b[39;49m\u001b[38;5;241;43m.\u001b[39;49m\u001b[43mconverter\u001b[49m\u001b[38;5;241;43m.\u001b[39;49m\u001b[43mconvert\u001b[49m\u001b[43m(\u001b[49m\u001b[43mx\u001b[49m\u001b[43m,\u001b[49m\u001b[43m \u001b[49m\u001b[38;5;28;43mself\u001b[39;49m\u001b[38;5;241;43m.\u001b[39;49m\u001b[43munits\u001b[49m\u001b[43m,\u001b[49m\u001b[43m \u001b[49m\u001b[38;5;28;43mself\u001b[39;49m\u001b[43m)\u001b[49m\n\u001b[1;32m   1507\u001b[0m \u001b[38;5;28;01mexcept\u001b[39;00m \u001b[38;5;167;01mException\u001b[39;00m \u001b[38;5;28;01mas\u001b[39;00m e:\n",
      "File \u001b[0;32m/opt/pub/eb/apps/all/DavidsonJupyter/2021-common-GCCcore-10.2.0/lib/python3.8/site-packages/matplotlib/category.py:49\u001b[0m, in \u001b[0;36mStrCategoryConverter.convert\u001b[0;34m(value, unit, axis)\u001b[0m\n\u001b[1;32m     48\u001b[0m \u001b[38;5;28;01mif\u001b[39;00m unit \u001b[38;5;129;01mis\u001b[39;00m \u001b[38;5;28;01mNone\u001b[39;00m:\n\u001b[0;32m---> 49\u001b[0m     \u001b[38;5;28;01mraise\u001b[39;00m \u001b[38;5;167;01mValueError\u001b[39;00m(\n\u001b[1;32m     50\u001b[0m         \u001b[38;5;124m'\u001b[39m\u001b[38;5;124mMissing category information for StrCategoryConverter; \u001b[39m\u001b[38;5;124m'\u001b[39m\n\u001b[1;32m     51\u001b[0m         \u001b[38;5;124m'\u001b[39m\u001b[38;5;124mthis might be caused by unintendedly mixing categorical and \u001b[39m\u001b[38;5;124m'\u001b[39m\n\u001b[1;32m     52\u001b[0m         \u001b[38;5;124m'\u001b[39m\u001b[38;5;124mnumeric data\u001b[39m\u001b[38;5;124m'\u001b[39m)\n\u001b[1;32m     53\u001b[0m StrCategoryConverter\u001b[38;5;241m.\u001b[39m_validate_unit(unit)\n",
      "\u001b[0;31mValueError\u001b[0m: Missing category information for StrCategoryConverter; this might be caused by unintendedly mixing categorical and numeric data",
      "\nThe above exception was the direct cause of the following exception:\n",
      "\u001b[0;31mConversionError\u001b[0m                           Traceback (most recent call last)",
      "Input \u001b[0;32mIn [41]\u001b[0m, in \u001b[0;36m<cell line: 18>\u001b[0;34m()\u001b[0m\n\u001b[1;32m     13\u001b[0m \u001b[38;5;66;03m# Sort the DataFrame by feature importances\u001b[39;00m\n\u001b[1;32m     14\u001b[0m \u001b[38;5;66;03m#feature_importances.sort_values('importances', ascending=False, inplace=True)\u001b[39;00m\n\u001b[1;32m     15\u001b[0m \n\u001b[1;32m     16\u001b[0m \u001b[38;5;66;03m# Create the bar plot using Seaborn\u001b[39;00m\n\u001b[1;32m     17\u001b[0m plt\u001b[38;5;241m.\u001b[39mfigure(figsize\u001b[38;5;241m=\u001b[39m(\u001b[38;5;241m10\u001b[39m, \u001b[38;5;241m8\u001b[39m))\n\u001b[0;32m---> 18\u001b[0m \u001b[43msns\u001b[49m\u001b[38;5;241;43m.\u001b[39;49m\u001b[43mbarplot\u001b[49m\u001b[43m(\u001b[49m\u001b[43mdata\u001b[49m\u001b[38;5;241;43m=\u001b[39;49m\u001b[43mfeature_importances\u001b[49m\u001b[43m,\u001b[49m\u001b[43m \u001b[49m\u001b[43mx\u001b[49m\u001b[38;5;241;43m=\u001b[39;49m\u001b[38;5;124;43m'\u001b[39;49m\u001b[38;5;124;43mimportances\u001b[39;49m\u001b[38;5;124;43m'\u001b[39;49m\u001b[43m,\u001b[49m\u001b[43m \u001b[49m\u001b[43my\u001b[49m\u001b[38;5;241;43m=\u001b[39;49m\u001b[38;5;124;43m'\u001b[39;49m\u001b[38;5;124;43mfeature_names\u001b[39;49m\u001b[38;5;124;43m'\u001b[39;49m\u001b[43m,\u001b[49m\u001b[43m \u001b[49m\u001b[43mxerr\u001b[49m\u001b[38;5;241;43m=\u001b[39;49m\u001b[38;5;124;43m'\u001b[39;49m\u001b[38;5;124;43mStd\u001b[39;49m\u001b[38;5;124;43m'\u001b[39;49m\u001b[43m,\u001b[49m\u001b[43m \u001b[49m\u001b[43mcapsize\u001b[49m\u001b[38;5;241;43m=\u001b[39;49m\u001b[38;5;241;43m0.1\u001b[39;49m\u001b[43m,\u001b[49m\u001b[43m \u001b[49m\u001b[43merrwidth\u001b[49m\u001b[38;5;241;43m=\u001b[39;49m\u001b[38;5;241;43m1.5\u001b[39;49m\u001b[43m,\u001b[49m\u001b[43m \u001b[49m\n\u001b[1;32m     19\u001b[0m \u001b[43m            \u001b[49m\u001b[43mpalette\u001b[49m\u001b[38;5;241;43m=\u001b[39;49m\u001b[43msns\u001b[49m\u001b[38;5;241;43m.\u001b[39;49m\u001b[43mcolor_palette\u001b[49m\u001b[43m(\u001b[49m\u001b[38;5;124;43m'\u001b[39;49m\u001b[38;5;124;43mviridis\u001b[39;49m\u001b[38;5;124;43m'\u001b[39;49m\u001b[43m,\u001b[49m\u001b[43m \u001b[49m\u001b[43mn_colors\u001b[49m\u001b[38;5;241;43m=\u001b[39;49m\u001b[38;5;28;43mlen\u001b[39;49m\u001b[43m(\u001b[49m\u001b[43mfeature_names\u001b[49m\u001b[43m)\u001b[49m\u001b[43m)\u001b[49m\u001b[43m)\u001b[49m\n\u001b[1;32m     20\u001b[0m plt\u001b[38;5;241m.\u001b[39mxlabel(\u001b[38;5;124m'\u001b[39m\u001b[38;5;124mFeature Importance\u001b[39m\u001b[38;5;124m'\u001b[39m)\n\u001b[1;32m     21\u001b[0m plt\u001b[38;5;241m.\u001b[39mtitle(\u001b[38;5;124m'\u001b[39m\u001b[38;5;124mFeature importances using MDI\u001b[39m\u001b[38;5;124m'\u001b[39m)\n",
      "File \u001b[0;32m/opt/pub/eb/apps/all/DavidsonJupyter/2021-common-GCCcore-10.2.0/lib/python3.8/site-packages/seaborn/categorical.py:2763\u001b[0m, in \u001b[0;36mbarplot\u001b[0;34m(data, x, y, hue, order, hue_order, estimator, errorbar, n_boot, units, seed, orient, color, palette, saturation, width, errcolor, errwidth, capsize, dodge, ci, ax, **kwargs)\u001b[0m\n\u001b[1;32m   2760\u001b[0m \u001b[38;5;28;01mif\u001b[39;00m ax \u001b[38;5;129;01mis\u001b[39;00m \u001b[38;5;28;01mNone\u001b[39;00m:\n\u001b[1;32m   2761\u001b[0m     ax \u001b[38;5;241m=\u001b[39m plt\u001b[38;5;241m.\u001b[39mgca()\n\u001b[0;32m-> 2763\u001b[0m \u001b[43mplotter\u001b[49m\u001b[38;5;241;43m.\u001b[39;49m\u001b[43mplot\u001b[49m\u001b[43m(\u001b[49m\u001b[43max\u001b[49m\u001b[43m,\u001b[49m\u001b[43m \u001b[49m\u001b[43mkwargs\u001b[49m\u001b[43m)\u001b[49m\n\u001b[1;32m   2764\u001b[0m \u001b[38;5;28;01mreturn\u001b[39;00m ax\n",
      "File \u001b[0;32m/opt/pub/eb/apps/all/DavidsonJupyter/2021-common-GCCcore-10.2.0/lib/python3.8/site-packages/seaborn/categorical.py:1586\u001b[0m, in \u001b[0;36m_BarPlotter.plot\u001b[0;34m(self, ax, bar_kws)\u001b[0m\n\u001b[1;32m   1584\u001b[0m \u001b[38;5;28;01mdef\u001b[39;00m \u001b[38;5;21mplot\u001b[39m(\u001b[38;5;28mself\u001b[39m, ax, bar_kws):\n\u001b[1;32m   1585\u001b[0m     \u001b[38;5;124;03m\"\"\"Make the plot.\"\"\"\u001b[39;00m\n\u001b[0;32m-> 1586\u001b[0m     \u001b[38;5;28;43mself\u001b[39;49m\u001b[38;5;241;43m.\u001b[39;49m\u001b[43mdraw_bars\u001b[49m\u001b[43m(\u001b[49m\u001b[43max\u001b[49m\u001b[43m,\u001b[49m\u001b[43m \u001b[49m\u001b[43mbar_kws\u001b[49m\u001b[43m)\u001b[49m\n\u001b[1;32m   1587\u001b[0m     \u001b[38;5;28mself\u001b[39m\u001b[38;5;241m.\u001b[39mannotate_axes(ax)\n\u001b[1;32m   1588\u001b[0m     \u001b[38;5;28;01mif\u001b[39;00m \u001b[38;5;28mself\u001b[39m\u001b[38;5;241m.\u001b[39morient \u001b[38;5;241m==\u001b[39m \u001b[38;5;124m\"\u001b[39m\u001b[38;5;124mh\u001b[39m\u001b[38;5;124m\"\u001b[39m:\n",
      "File \u001b[0;32m/opt/pub/eb/apps/all/DavidsonJupyter/2021-common-GCCcore-10.2.0/lib/python3.8/site-packages/seaborn/categorical.py:1551\u001b[0m, in \u001b[0;36m_BarPlotter.draw_bars\u001b[0;34m(self, ax, kws)\u001b[0m\n\u001b[1;32m   1546\u001b[0m barpos \u001b[38;5;241m=\u001b[39m np\u001b[38;5;241m.\u001b[39marange(\u001b[38;5;28mlen\u001b[39m(\u001b[38;5;28mself\u001b[39m\u001b[38;5;241m.\u001b[39mstatistic))\n\u001b[1;32m   1548\u001b[0m \u001b[38;5;28;01mif\u001b[39;00m \u001b[38;5;28mself\u001b[39m\u001b[38;5;241m.\u001b[39mplot_hues \u001b[38;5;129;01mis\u001b[39;00m \u001b[38;5;28;01mNone\u001b[39;00m:\n\u001b[1;32m   1549\u001b[0m \n\u001b[1;32m   1550\u001b[0m     \u001b[38;5;66;03m# Draw the bars\u001b[39;00m\n\u001b[0;32m-> 1551\u001b[0m     \u001b[43mbarfunc\u001b[49m\u001b[43m(\u001b[49m\u001b[43mbarpos\u001b[49m\u001b[43m,\u001b[49m\u001b[43m \u001b[49m\u001b[38;5;28;43mself\u001b[39;49m\u001b[38;5;241;43m.\u001b[39;49m\u001b[43mstatistic\u001b[49m\u001b[43m,\u001b[49m\u001b[43m \u001b[49m\u001b[38;5;28;43mself\u001b[39;49m\u001b[38;5;241;43m.\u001b[39;49m\u001b[43mwidth\u001b[49m\u001b[43m,\u001b[49m\n\u001b[1;32m   1552\u001b[0m \u001b[43m            \u001b[49m\u001b[43mcolor\u001b[49m\u001b[38;5;241;43m=\u001b[39;49m\u001b[38;5;28;43mself\u001b[39;49m\u001b[38;5;241;43m.\u001b[39;49m\u001b[43mcolors\u001b[49m\u001b[43m,\u001b[49m\u001b[43m \u001b[49m\u001b[43malign\u001b[49m\u001b[38;5;241;43m=\u001b[39;49m\u001b[38;5;124;43m\"\u001b[39;49m\u001b[38;5;124;43mcenter\u001b[39;49m\u001b[38;5;124;43m\"\u001b[39;49m\u001b[43m,\u001b[49m\u001b[43m \u001b[49m\u001b[38;5;241;43m*\u001b[39;49m\u001b[38;5;241;43m*\u001b[39;49m\u001b[43mkws\u001b[49m\u001b[43m)\u001b[49m\n\u001b[1;32m   1554\u001b[0m     \u001b[38;5;66;03m# Draw the confidence intervals\u001b[39;00m\n\u001b[1;32m   1555\u001b[0m     errcolors \u001b[38;5;241m=\u001b[39m [\u001b[38;5;28mself\u001b[39m\u001b[38;5;241m.\u001b[39merrcolor] \u001b[38;5;241m*\u001b[39m \u001b[38;5;28mlen\u001b[39m(barpos)\n",
      "File \u001b[0;32m/opt/pub/eb/apps/all/DavidsonJupyter/2021-common-GCCcore-10.2.0/lib/python3.8/site-packages/matplotlib/axes/_axes.py:2551\u001b[0m, in \u001b[0;36mAxes.barh\u001b[0;34m(self, y, width, height, left, align, **kwargs)\u001b[0m\n\u001b[1;32m   2452\u001b[0m \u001b[38;5;124mr\u001b[39m\u001b[38;5;124;03m\"\"\"\u001b[39;00m\n\u001b[1;32m   2453\u001b[0m \u001b[38;5;124;03mMake a horizontal bar plot.\u001b[39;00m\n\u001b[1;32m   2454\u001b[0m \n\u001b[0;32m   (...)\u001b[0m\n\u001b[1;32m   2548\u001b[0m \u001b[38;5;124;03m.\u001b[39;00m\n\u001b[1;32m   2549\u001b[0m \u001b[38;5;124;03m\"\"\"\u001b[39;00m\n\u001b[1;32m   2550\u001b[0m kwargs\u001b[38;5;241m.\u001b[39msetdefault(\u001b[38;5;124m'\u001b[39m\u001b[38;5;124morientation\u001b[39m\u001b[38;5;124m'\u001b[39m, \u001b[38;5;124m'\u001b[39m\u001b[38;5;124mhorizontal\u001b[39m\u001b[38;5;124m'\u001b[39m)\n\u001b[0;32m-> 2551\u001b[0m patches \u001b[38;5;241m=\u001b[39m \u001b[38;5;28;43mself\u001b[39;49m\u001b[38;5;241;43m.\u001b[39;49m\u001b[43mbar\u001b[49m\u001b[43m(\u001b[49m\u001b[43mx\u001b[49m\u001b[38;5;241;43m=\u001b[39;49m\u001b[43mleft\u001b[49m\u001b[43m,\u001b[49m\u001b[43m \u001b[49m\u001b[43mheight\u001b[49m\u001b[38;5;241;43m=\u001b[39;49m\u001b[43mheight\u001b[49m\u001b[43m,\u001b[49m\u001b[43m \u001b[49m\u001b[43mwidth\u001b[49m\u001b[38;5;241;43m=\u001b[39;49m\u001b[43mwidth\u001b[49m\u001b[43m,\u001b[49m\u001b[43m \u001b[49m\u001b[43mbottom\u001b[49m\u001b[38;5;241;43m=\u001b[39;49m\u001b[43my\u001b[49m\u001b[43m,\u001b[49m\n\u001b[1;32m   2552\u001b[0m \u001b[43m                   \u001b[49m\u001b[43malign\u001b[49m\u001b[38;5;241;43m=\u001b[39;49m\u001b[43malign\u001b[49m\u001b[43m,\u001b[49m\u001b[43m \u001b[49m\u001b[38;5;241;43m*\u001b[39;49m\u001b[38;5;241;43m*\u001b[39;49m\u001b[43mkwargs\u001b[49m\u001b[43m)\u001b[49m\n\u001b[1;32m   2553\u001b[0m \u001b[38;5;28;01mreturn\u001b[39;00m patches\n",
      "File \u001b[0;32m/opt/pub/eb/apps/all/DavidsonJupyter/2021-common-GCCcore-10.2.0/lib/python3.8/site-packages/matplotlib/__init__.py:1412\u001b[0m, in \u001b[0;36m_preprocess_data.<locals>.inner\u001b[0;34m(ax, data, *args, **kwargs)\u001b[0m\n\u001b[1;32m   1409\u001b[0m \u001b[38;5;129m@functools\u001b[39m\u001b[38;5;241m.\u001b[39mwraps(func)\n\u001b[1;32m   1410\u001b[0m \u001b[38;5;28;01mdef\u001b[39;00m \u001b[38;5;21minner\u001b[39m(ax, \u001b[38;5;241m*\u001b[39margs, data\u001b[38;5;241m=\u001b[39m\u001b[38;5;28;01mNone\u001b[39;00m, \u001b[38;5;241m*\u001b[39m\u001b[38;5;241m*\u001b[39mkwargs):\n\u001b[1;32m   1411\u001b[0m     \u001b[38;5;28;01mif\u001b[39;00m data \u001b[38;5;129;01mis\u001b[39;00m \u001b[38;5;28;01mNone\u001b[39;00m:\n\u001b[0;32m-> 1412\u001b[0m         \u001b[38;5;28;01mreturn\u001b[39;00m \u001b[43mfunc\u001b[49m\u001b[43m(\u001b[49m\u001b[43max\u001b[49m\u001b[43m,\u001b[49m\u001b[43m \u001b[49m\u001b[38;5;241;43m*\u001b[39;49m\u001b[38;5;28;43mmap\u001b[39;49m\u001b[43m(\u001b[49m\u001b[43msanitize_sequence\u001b[49m\u001b[43m,\u001b[49m\u001b[43m \u001b[49m\u001b[43margs\u001b[49m\u001b[43m)\u001b[49m\u001b[43m,\u001b[49m\u001b[43m \u001b[49m\u001b[38;5;241;43m*\u001b[39;49m\u001b[38;5;241;43m*\u001b[39;49m\u001b[43mkwargs\u001b[49m\u001b[43m)\u001b[49m\n\u001b[1;32m   1414\u001b[0m     bound \u001b[38;5;241m=\u001b[39m new_sig\u001b[38;5;241m.\u001b[39mbind(ax, \u001b[38;5;241m*\u001b[39margs, \u001b[38;5;241m*\u001b[39m\u001b[38;5;241m*\u001b[39mkwargs)\n\u001b[1;32m   1415\u001b[0m     auto_label \u001b[38;5;241m=\u001b[39m (bound\u001b[38;5;241m.\u001b[39marguments\u001b[38;5;241m.\u001b[39mget(label_namer)\n\u001b[1;32m   1416\u001b[0m                   \u001b[38;5;129;01mor\u001b[39;00m bound\u001b[38;5;241m.\u001b[39mkwargs\u001b[38;5;241m.\u001b[39mget(label_namer))\n",
      "File \u001b[0;32m/opt/pub/eb/apps/all/DavidsonJupyter/2021-common-GCCcore-10.2.0/lib/python3.8/site-packages/matplotlib/axes/_axes.py:2334\u001b[0m, in \u001b[0;36mAxes.bar\u001b[0;34m(self, x, height, width, bottom, align, **kwargs)\u001b[0m\n\u001b[1;32m   2332\u001b[0m     width \u001b[38;5;241m=\u001b[39m \u001b[38;5;28mself\u001b[39m\u001b[38;5;241m.\u001b[39m_convert_dx(width, x0, x, \u001b[38;5;28mself\u001b[39m\u001b[38;5;241m.\u001b[39mconvert_xunits)\n\u001b[1;32m   2333\u001b[0m     \u001b[38;5;28;01mif\u001b[39;00m xerr \u001b[38;5;129;01mis\u001b[39;00m \u001b[38;5;129;01mnot\u001b[39;00m \u001b[38;5;28;01mNone\u001b[39;00m:\n\u001b[0;32m-> 2334\u001b[0m         xerr \u001b[38;5;241m=\u001b[39m \u001b[38;5;28;43mself\u001b[39;49m\u001b[38;5;241;43m.\u001b[39;49m\u001b[43m_convert_dx\u001b[49m\u001b[43m(\u001b[49m\u001b[43mxerr\u001b[49m\u001b[43m,\u001b[49m\u001b[43m \u001b[49m\u001b[43mx0\u001b[49m\u001b[43m,\u001b[49m\u001b[43m \u001b[49m\u001b[43mx\u001b[49m\u001b[43m,\u001b[49m\u001b[43m \u001b[49m\u001b[38;5;28;43mself\u001b[39;49m\u001b[38;5;241;43m.\u001b[39;49m\u001b[43mconvert_xunits\u001b[49m\u001b[43m)\u001b[49m\n\u001b[1;32m   2335\u001b[0m \u001b[38;5;28;01mif\u001b[39;00m \u001b[38;5;28mself\u001b[39m\u001b[38;5;241m.\u001b[39myaxis \u001b[38;5;129;01mis\u001b[39;00m \u001b[38;5;129;01mnot\u001b[39;00m \u001b[38;5;28;01mNone\u001b[39;00m:\n\u001b[1;32m   2336\u001b[0m     y0 \u001b[38;5;241m=\u001b[39m y\n",
      "File \u001b[0;32m/opt/pub/eb/apps/all/DavidsonJupyter/2021-common-GCCcore-10.2.0/lib/python3.8/site-packages/matplotlib/axes/_axes.py:2168\u001b[0m, in \u001b[0;36mAxes._convert_dx\u001b[0;34m(dx, x0, xconv, convert)\u001b[0m\n\u001b[1;32m   2164\u001b[0m         dx \u001b[38;5;241m=\u001b[39m dx[\u001b[38;5;241m0\u001b[39m]\n\u001b[1;32m   2165\u001b[0m \u001b[38;5;28;01mexcept\u001b[39;00m (\u001b[38;5;167;01mValueError\u001b[39;00m, \u001b[38;5;167;01mTypeError\u001b[39;00m, \u001b[38;5;167;01mAttributeError\u001b[39;00m):\n\u001b[1;32m   2166\u001b[0m     \u001b[38;5;66;03m# if the above fails (for any reason) just fallback to what\u001b[39;00m\n\u001b[1;32m   2167\u001b[0m     \u001b[38;5;66;03m# we do by default and convert dx by itself.\u001b[39;00m\n\u001b[0;32m-> 2168\u001b[0m     dx \u001b[38;5;241m=\u001b[39m \u001b[43mconvert\u001b[49m\u001b[43m(\u001b[49m\u001b[43mdx\u001b[49m\u001b[43m)\u001b[49m\n\u001b[1;32m   2169\u001b[0m \u001b[38;5;28;01mreturn\u001b[39;00m dx\n",
      "File \u001b[0;32m/opt/pub/eb/apps/all/DavidsonJupyter/2021-common-GCCcore-10.2.0/lib/python3.8/site-packages/matplotlib/artist.py:252\u001b[0m, in \u001b[0;36mArtist.convert_xunits\u001b[0;34m(self, x)\u001b[0m\n\u001b[1;32m    250\u001b[0m \u001b[38;5;28;01mif\u001b[39;00m ax \u001b[38;5;129;01mis\u001b[39;00m \u001b[38;5;28;01mNone\u001b[39;00m \u001b[38;5;129;01mor\u001b[39;00m ax\u001b[38;5;241m.\u001b[39mxaxis \u001b[38;5;129;01mis\u001b[39;00m \u001b[38;5;28;01mNone\u001b[39;00m:\n\u001b[1;32m    251\u001b[0m     \u001b[38;5;28;01mreturn\u001b[39;00m x\n\u001b[0;32m--> 252\u001b[0m \u001b[38;5;28;01mreturn\u001b[39;00m \u001b[43max\u001b[49m\u001b[38;5;241;43m.\u001b[39;49m\u001b[43mxaxis\u001b[49m\u001b[38;5;241;43m.\u001b[39;49m\u001b[43mconvert_units\u001b[49m\u001b[43m(\u001b[49m\u001b[43mx\u001b[49m\u001b[43m)\u001b[49m\n",
      "File \u001b[0;32m/opt/pub/eb/apps/all/DavidsonJupyter/2021-common-GCCcore-10.2.0/lib/python3.8/site-packages/matplotlib/axis.py:1508\u001b[0m, in \u001b[0;36mAxis.convert_units\u001b[0;34m(self, x)\u001b[0m\n\u001b[1;32m   1506\u001b[0m     ret \u001b[38;5;241m=\u001b[39m \u001b[38;5;28mself\u001b[39m\u001b[38;5;241m.\u001b[39mconverter\u001b[38;5;241m.\u001b[39mconvert(x, \u001b[38;5;28mself\u001b[39m\u001b[38;5;241m.\u001b[39munits, \u001b[38;5;28mself\u001b[39m)\n\u001b[1;32m   1507\u001b[0m \u001b[38;5;28;01mexcept\u001b[39;00m \u001b[38;5;167;01mException\u001b[39;00m \u001b[38;5;28;01mas\u001b[39;00m e:\n\u001b[0;32m-> 1508\u001b[0m     \u001b[38;5;28;01mraise\u001b[39;00m munits\u001b[38;5;241m.\u001b[39mConversionError(\u001b[38;5;124m'\u001b[39m\u001b[38;5;124mFailed to convert value(s) to axis \u001b[39m\u001b[38;5;124m'\u001b[39m\n\u001b[1;32m   1509\u001b[0m                                  \u001b[38;5;124mf\u001b[39m\u001b[38;5;124m'\u001b[39m\u001b[38;5;124munits: \u001b[39m\u001b[38;5;132;01m{\u001b[39;00mx\u001b[38;5;132;01m!r}\u001b[39;00m\u001b[38;5;124m'\u001b[39m) \u001b[38;5;28;01mfrom\u001b[39;00m \u001b[38;5;21;01me\u001b[39;00m\n\u001b[1;32m   1510\u001b[0m \u001b[38;5;28;01mreturn\u001b[39;00m ret\n",
      "\u001b[0;31mConversionError\u001b[0m: Failed to convert value(s) to axis units: 'Std'"
     ]
    },
    {
     "data": {
      "image/png": "[encoded data removed]",
      "text/plain": [
       "<Figure size 720x576 with 1 Axes>"
      ]
     },
     "metadata": {
      "needs_background": "light"
     },
     "output_type": "display_data"
    }
   ],
   "source": [
    "import seaborn as sns\n",
    "\n",
    "# Calculate Feature Importance with Impunity Based method\n",
    "impurity_importances = baseline_rr.feature_importances_\n",
    "impurity_std = np.std([tree.feature_importances_ for tree in baseline_rr.estimators_], axis=0)\n",
    "\n",
    "# Create a DataFrame with the feature importances and standard deviation\n",
    "feature_names = [f\"feature {i}\" for i in range(X_data.shape[1])]\n",
    "feature_importances = pd.DataFrame({'feature_names': feature_names,\n",
    "                                    'importances': impurity_importances,\n",
    "                                    'std': impurity_std})\n",
    "\n",
    "# Sort the DataFrame by feature importances\n",
    "#feature_importances.sort_values('importances', ascending=False, inplace=True)\n",
    "\n",
    "# Create the bar plot using Seaborn\n",
    "plt.figure(figsize=(10, 8))\n",
    "sns.barplot(data=feature_importances, x='importances', y='feature_names', xerr='Std', capsize=0.1, errwidth=1.5, \n",
    "            palette=sns.color_palette('viridis', n_colors=len(feature_names)))\n",
    "plt.xlabel('Feature Importance')\n",
    "plt.title('Feature importances using MDI')\n",
    "plt.show()"
   ]
  },
  {
   "cell_type": "code",
   "execution_count": 29,
   "id": "10ad159a-5d02-4745-81cf-8be2c200b0c3",
   "metadata": {},
   "outputs": [
    {
     "name": "stderr",
     "output_type": "stream",
     "text": [
      "/opt/pub/eb/apps/all/DavidsonJupyter/2021-common-GCCcore-10.2.0/lib/python3.8/site-packages/sklearn/model_selection/_validation.py:378: FitFailedWarning: \n",
      "810 fits failed out of a total of 4050.\n",
      "The score on these train-test partitions for these parameters will be set to nan.\n",
      "If these failures are not expected, you can try to debug them by setting error_score='raise'.\n",
      "\n",
      "Below are more details about the failures:\n",
      "--------------------------------------------------------------------------------\n",
      "810 fits failed with the following error:\n",
      "Traceback (most recent call last):\n",
      "  File \"/opt/pub/eb/apps/all/DavidsonJupyter/2021-common-GCCcore-10.2.0/lib/python3.8/site-packages/sklearn/model_selection/_validation.py\", line 686, in _fit_and_score\n",
      "    estimator.fit(X_train, y_train, **fit_params)\n",
      "  File \"/opt/pub/eb/apps/all/DavidsonJupyter/2021-common-GCCcore-10.2.0/lib/python3.8/site-packages/sklearn/pipeline.py\", line 382, in fit\n",
      "    self._final_estimator.fit(Xt, y, **fit_params_last_step)\n",
      "  File \"/opt/pub/eb/apps/all/DavidsonJupyter/2021-common-GCCcore-10.2.0/lib/python3.8/site-packages/sklearn/ensemble/_forest.py\", line 476, in fit\n",
      "    trees = Parallel(\n",
      "  File \"/opt/pub/eb/apps/all/DavidsonJupyter/2021-common-GCCcore-10.2.0/lib/python3.8/site-packages/joblib/parallel.py\", line 1056, in __call__\n",
      "    self.retrieve()\n",
      "  File \"/opt/pub/eb/apps/all/DavidsonJupyter/2021-common-GCCcore-10.2.0/lib/python3.8/site-packages/joblib/parallel.py\", line 935, in retrieve\n",
      "    self._output.extend(job.get(timeout=self.timeout))\n",
      "  File \"/opt/pub/eb/apps/all/Python/3.8.6-GCCcore-10.2.0/lib/python3.8/multiprocessing/pool.py\", line 771, in get\n",
      "    raise self._value\n",
      "  File \"/opt/pub/eb/apps/all/Python/3.8.6-GCCcore-10.2.0/lib/python3.8/multiprocessing/pool.py\", line 125, in worker\n",
      "    result = (True, func(*args, **kwds))\n",
      "  File \"/opt/pub/eb/apps/all/DavidsonJupyter/2021-common-GCCcore-10.2.0/lib/python3.8/site-packages/joblib/_parallel_backends.py\", line 595, in __call__\n",
      "    return self.func(*args, **kwargs)\n",
      "  File \"/opt/pub/eb/apps/all/DavidsonJupyter/2021-common-GCCcore-10.2.0/lib/python3.8/site-packages/joblib/parallel.py\", line 262, in __call__\n",
      "    return [func(*args, **kwargs)\n",
      "  File \"/opt/pub/eb/apps/all/DavidsonJupyter/2021-common-GCCcore-10.2.0/lib/python3.8/site-packages/joblib/parallel.py\", line 262, in <listcomp>\n",
      "    return [func(*args, **kwargs)\n",
      "  File \"/opt/pub/eb/apps/all/DavidsonJupyter/2021-common-GCCcore-10.2.0/lib/python3.8/site-packages/sklearn/utils/fixes.py\", line 117, in __call__\n",
      "    return self.function(*args, **kwargs)\n",
      "  File \"/opt/pub/eb/apps/all/DavidsonJupyter/2021-common-GCCcore-10.2.0/lib/python3.8/site-packages/sklearn/ensemble/_forest.py\", line 189, in _parallel_build_trees\n",
      "    tree.fit(X, y, sample_weight=curr_sample_weight, check_input=False)\n",
      "  File \"/opt/pub/eb/apps/all/DavidsonJupyter/2021-common-GCCcore-10.2.0/lib/python3.8/site-packages/sklearn/tree/_classes.py\", line 969, in fit\n",
      "    super().fit(\n",
      "  File \"/opt/pub/eb/apps/all/DavidsonJupyter/2021-common-GCCcore-10.2.0/lib/python3.8/site-packages/sklearn/tree/_classes.py\", line 334, in fit\n",
      "    check_scalar(\n",
      "  File \"/opt/pub/eb/apps/all/DavidsonJupyter/2021-common-GCCcore-10.2.0/lib/python3.8/site-packages/sklearn/utils/validation.py\", line 1489, in check_scalar\n",
      "    raise ValueError(\n",
      "ValueError: max_features == 43.37049688440288, must be <= 1.0.\n",
      "\n",
      "  warnings.warn(some_fits_failed_message, FitFailedWarning)\n",
      "/opt/pub/eb/apps/all/DavidsonJupyter/2021-common-GCCcore-10.2.0/lib/python3.8/site-packages/sklearn/model_selection/_search.py:953: UserWarning: One or more of the test scores are non-finite: [0.95163939 0.96131469 0.96039091 0.95486096 0.95993114 0.95993114\n",
      " 0.95578367 0.95855289 0.95855183 0.95394354 0.95624768 0.958091\n",
      " 0.94887547 0.95854865 0.95808994 0.95164257 0.95578685 0.95809206\n",
      " 0.95209916 0.95394354 0.95578367 0.95256317 0.9562498  0.95762593\n",
      " 0.94288575 0.95532496 0.95394565 0.96223317 0.96453626 0.9654558\n",
      " 0.96407437 0.967761   0.96545686 0.96223529 0.96407543 0.96361566\n",
      " 0.95993008 0.96407543 0.96499921 0.9617734  0.96315271 0.96177234\n",
      " 0.96131045 0.96499603 0.96407543 0.95854759 0.96223529 0.9645352\n",
      " 0.96223635 0.96131151 0.96499709 0.96130939 0.96315377 0.96407543\n",
      "        nan        nan        nan        nan        nan        nan\n",
      "        nan        nan        nan        nan        nan        nan\n",
      "        nan        nan        nan        nan        nan        nan\n",
      "        nan        nan        nan        nan        nan        nan\n",
      "        nan        nan        nan 0.96868054 0.9663764  0.96683829\n",
      " 0.96407649 0.96868372 0.96729806 0.96591557 0.96499497 0.96775889\n",
      " 0.96637428 0.9663764  0.9654558  0.96223317 0.96499497 0.96729912\n",
      " 0.96361672 0.96821866 0.96637746 0.96453626 0.96775783 0.96314953\n",
      " 0.9663764  0.96499603 0.96637746 0.96683935 0.96729806 0.96683723\n",
      " 0.96545474 0.96775889 0.96775889 0.96499497 0.96730017 0.96821866\n",
      " 0.96637958 0.967297   0.9686816  0.96499603 0.9654558  0.96775889\n",
      " 0.96545686 0.96683935 0.96821866 0.96453202 0.96591769 0.96591557\n",
      " 0.96268976 0.96637746 0.96499391 0.96683617 0.96637746 0.96729912\n",
      " 0.96545474 0.96729912 0.96637852 0.95210445 0.96177446 0.95947137\n",
      " 0.95808888 0.96269506 0.96269612 0.95716934 0.96269612 0.96085386\n",
      " 0.95624345 0.95855077 0.95947137 0.9571651  0.95855077 0.95854865\n",
      " 0.95578685 0.95716722 0.95946925 0.95072091 0.9571704  0.95624662\n",
      " 0.95071773 0.95532708 0.95624662 0.95071985 0.95486413 0.95578473\n",
      " 0.96269294 0.96545686 0.96591875 0.96591769 0.96730123 0.96499603\n",
      " 0.96683935 0.96453308 0.96637746 0.96039197 0.96269506 0.96591769\n",
      " 0.96499391 0.96683935 0.96315483 0.96223317 0.96591663 0.96453626\n",
      " 0.95947137 0.96499603 0.96361354 0.9617734  0.96499497 0.96499815\n",
      " 0.9608528  0.96407543 0.96499815        nan        nan        nan\n",
      "        nan        nan        nan        nan        nan        nan\n",
      "        nan        nan        nan        nan        nan        nan\n",
      "        nan        nan        nan        nan        nan        nan\n",
      "        nan        nan        nan        nan        nan        nan\n",
      " 0.96730017 0.96730017 0.96591557 0.96453732 0.96729912 0.96775889\n",
      " 0.96637852 0.96545792 0.96683723 0.96453838 0.96729806 0.96775677\n",
      " 0.96730017 0.96499921 0.96637746 0.96729806 0.96729806 0.9663764\n",
      " 0.96453202 0.96637534 0.96499815 0.96499603 0.96591769 0.96545474\n",
      " 0.9654558  0.96637852 0.96453626 0.96775889 0.96637746 0.96591663\n",
      " 0.96868054 0.9654558  0.96775783 0.96821972 0.96775994 0.96637534\n",
      " 0.96499285 0.96775994 0.96591663 0.96591557 0.96821972 0.96683829\n",
      " 0.96821972 0.9645352  0.96591345 0.96453414 0.96545474 0.96683723\n",
      " 0.96222893 0.96683723 0.96499497 0.96545474 0.9645352  0.96637852\n",
      " 0.95670427 0.9599322  0.9608528  0.95440331 0.96315483 0.96131363\n",
      " 0.95670745 0.9608528  0.96407543 0.95348271 0.95947031 0.95947243\n",
      " 0.95440436 0.95947031 0.95670533 0.95762805 0.95808676 0.95808888\n",
      " 0.9553239  0.95440648 0.95808676 0.95210234 0.95532602 0.95578579\n",
      " 0.95440225 0.95624556 0.95716934 0.96591769 0.96960326 0.96821866\n",
      " 0.9654558  0.96775889 0.96775994 0.96084962 0.967297   0.96775677\n",
      " 0.96407225 0.96637958 0.96775994 0.96499921 0.96499709 0.9645352\n",
      " 0.96269294 0.96822289 0.96638063 0.96500026 0.96499709 0.96407543\n",
      " 0.96131257 0.96407755 0.96545792 0.9617734  0.96407437 0.96545898\n",
      "        nan        nan        nan        nan        nan        nan\n",
      "        nan        nan        nan        nan        nan        nan\n",
      "        nan        nan        nan        nan        nan        nan\n",
      "        nan        nan        nan        nan        nan        nan\n",
      "        nan        nan        nan 0.96499391 0.96868054 0.96821972\n",
      " 0.96683935 0.96914243 0.96499603 0.96591875 0.96867949 0.96683723\n",
      " 0.96730017 0.96637958 0.967297   0.96499497 0.96683723 0.96821866\n",
      " 0.96775783 0.96775889 0.96591663 0.96545262 0.96499603 0.96315271\n",
      " 0.9654558  0.96775994 0.96591451 0.9645352  0.96683723 0.96453414\n",
      " 0.96499497 0.96499497 0.96868054 0.96683829 0.9663764  0.96683617\n",
      " 0.96683723 0.967297   0.96683723 0.96545368 0.96545686 0.96637746\n",
      " 0.96545474 0.96591663 0.96683829 0.96499391 0.96775994 0.96683829\n",
      " 0.96591663 0.96591663 0.9654558  0.96637746 0.96407437 0.96453626\n",
      " 0.96453414 0.96637746 0.9654558  0.9571651  0.96315483 0.96315801\n",
      " 0.96223423 0.96223529 0.96177234 0.96361354 0.96223423 0.96361672\n",
      " 0.95992796 0.96269612 0.95947031 0.95670745 0.96131363 0.96315377\n",
      " 0.9571651  0.96131151 0.96131257 0.95210022 0.95993114 0.96177446\n",
      " 0.95762593 0.95993114 0.96038985 0.95578579 0.95947137 0.96223529\n",
      " 0.96453308 0.96775889 0.96775889 0.96499603 0.96683617 0.96775783\n",
      " 0.96683723 0.9654558  0.96730017 0.96177234 0.96683935 0.96545686\n",
      " 0.96407543 0.96683829 0.96729912 0.96223211 0.96775783 0.96683829\n",
      " 0.96130939 0.96499709 0.9654558  0.96084962 0.96545686 0.96407543\n",
      " 0.9645352  0.96407437 0.96453626        nan        nan        nan\n",
      "        nan        nan        nan        nan        nan        nan\n",
      "        nan        nan        nan        nan        nan        nan\n",
      "        nan        nan        nan        nan        nan        nan\n",
      "        nan        nan        nan        nan        nan        nan\n",
      " 0.96914243 0.96637746 0.96683723 0.96499497 0.96591451 0.96914031\n",
      " 0.96775677 0.96775889 0.96914031 0.96545792 0.96683935 0.96591769\n",
      " 0.96637852 0.9654558  0.96591769 0.96637746 0.96499497 0.96499285\n",
      " 0.96407437 0.96407543 0.9663764  0.96637852 0.96637746 0.96683723\n",
      " 0.96361248 0.96591557 0.96683829 0.96453414 0.96775889 0.96545262\n",
      " 0.96499179 0.96729912 0.96683723 0.9654558  0.96775677 0.96637534\n",
      " 0.96499391 0.96591451 0.9645352  0.96683617 0.96453414 0.9654558\n",
      " 0.967297   0.96361248 0.96729806 0.96545368 0.96361142 0.96453414\n",
      " 0.96637746 0.96591557 0.96591557 0.96407331 0.96499497 0.96407331\n",
      " 0.96315483 0.96730017 0.96776206 0.96361566 0.96407755 0.96868372\n",
      " 0.96269188 0.96499709 0.96822077 0.9626887  0.96269612 0.96453626\n",
      " 0.96453626 0.96453732 0.96453626 0.96499709 0.96591981 0.96453732\n",
      " 0.96177446 0.9668404  0.96177234 0.95808676 0.96177128 0.9636146\n",
      " 0.96085068 0.96269506 0.96407755 0.96683935 0.96867949 0.96637746\n",
      " 0.96591875 0.96591875 0.96960114 0.96683723 0.96775994 0.96591663\n",
      " 0.9654558  0.96637852 0.96730017 0.96222999 0.96775783 0.96821972\n",
      " 0.96453414 0.96914137 0.96499709 0.96545686 0.96591557 0.9663764\n",
      " 0.96407543 0.96637746 0.96637746 0.96591663 0.96361354 0.96407331\n",
      "        nan        nan        nan        nan        nan        nan\n",
      "        nan        nan        nan        nan        nan        nan\n",
      "        nan        nan        nan        nan        nan        nan\n",
      "        nan        nan        nan        nan        nan        nan\n",
      "        nan        nan        nan 0.96683829 0.96637428 0.9663764\n",
      " 0.96775783 0.96499391 0.96821866 0.96269188 0.9663764  0.96683723\n",
      " 0.96729594 0.96499285 0.9654558  0.96499603 0.96775994 0.96499285\n",
      " 0.96407543 0.967297   0.96591557 0.96407437 0.96407331 0.96407331\n",
      " 0.96499391 0.96453308 0.96591557 0.96499285 0.96545474 0.96453414\n",
      " 0.96545368 0.96591557 0.967297   0.96775783 0.96591451 0.96499391\n",
      " 0.9626887  0.96499391 0.96453414 0.9654558  0.96361248 0.96407331\n",
      " 0.96453202 0.96545368 0.96591557 0.96453096 0.96591663 0.96499497\n",
      " 0.96407331 0.96453308 0.96269082 0.96315165 0.96499391 0.96269082\n",
      " 0.96223105 0.96453414 0.96499391 0.96361142 0.96591769 0.96591663\n",
      " 0.96822077 0.96729912 0.96637958 0.96545792 0.96637746 0.96868054\n",
      " 0.9645352  0.96637852 0.96499603 0.96591663 0.96453732 0.96683829\n",
      " 0.96407543 0.96591981 0.9668404  0.9645352  0.96591769 0.96177128\n",
      " 0.9617734  0.9636146  0.96637852 0.96038879 0.96545792 0.9645352\n",
      " 0.96775889 0.96822077 0.96775889 0.96499603 0.96868054 0.967761\n",
      " 0.96821972 0.96637746 0.96683723 0.96591663 0.96730017 0.967761\n",
      " 0.96591557 0.96499603 0.96822077 0.96499497 0.96499497 0.96637958\n",
      " 0.9668404  0.96453626 0.96821972 0.96361566 0.96499603 0.96591769\n",
      " 0.9654558  0.967297   0.96637746        nan        nan        nan\n",
      "        nan        nan        nan        nan        nan        nan\n",
      "        nan        nan        nan        nan        nan        nan\n",
      "        nan        nan        nan        nan        nan        nan\n",
      "        nan        nan        nan        nan        nan        nan\n",
      " 0.96499497 0.9654558  0.96499391 0.96545368 0.96545686 0.96637534\n",
      " 0.96591557 0.96499391 0.96453308 0.96453626 0.96361248 0.96407331\n",
      " 0.96453202 0.96453414 0.96683511 0.96591663 0.96637534 0.96453308\n",
      " 0.9636146  0.96407225 0.96361354 0.96499391 0.96499391 0.96407225\n",
      " 0.9645352  0.96499497 0.96361248 0.96499285 0.96499073 0.96591345\n",
      " 0.96453096 0.96361036 0.96453308 0.9654558  0.96453096 0.96269082\n",
      " 0.96269082 0.96453202 0.96361142 0.96222999 0.96084856 0.96407225\n",
      " 0.96222787 0.96453308 0.96453202 0.96361248 0.96222893 0.9608475\n",
      " 0.96130727 0.96222893 0.96130833 0.96315059 0.96407331 0.96130833]\n",
      "  warnings.warn(\n"
     ]
    },
    {
     "name": "stdout",
     "output_type": "stream",
     "text": [
      "The score of the primary RR model is:  0.9820441988950276\n",
      "The model's best parameters are:  {'feature_selection__max_features': 1504, 'rr_classifier__max_features': 20, 'rr_classifier__min_samples_leaf': 1, 'rr_classifier__min_samples_split': 2, 'rr_classifier__n_estimators': 300}\n"
     ]
    }
   ],
   "source": [
    "\"\"\"\n",
    "Random Forest with RR feature selection, hyperparameters tuning and model specifications\n",
    "\"\"\"\n",
    "from sklearn.feature_selection import SelectFromModel\n",
    "from sklearn.pipeline import Pipeline\n",
    "from sklearn.model_selection import GridSearchCV\n",
    "from sklearn.pipeline import make_pipeline\n",
    "from sklearn.feature_selection import SelectPercentile, f_classif\n",
    "import math\n",
    "\n",
    "\n",
    "\n",
    "rr_pipe = Pipeline([\n",
    "    ('feature_selection', SelectFromModel(RandomForestClassifier(), threshold=-np.inf)),\n",
    "    \n",
    "    ('rr_classifier', RandomForestClassifier(n_jobs = -1))\n",
    "])\n",
    "\n",
    "rr_paramgrid = {\n",
    "    'feature_selection__max_features': [1881, 1692, 1504, 1316, 940, 752], # keep 100, 90, 80, 70, 60, 50, 40% of data\n",
    "    'rr_classifier__max_features': [10, 20, math.sqrt(1881), 60, 80], #1881 is the total number of features\n",
    "    'rr_classifier__n_estimators': [100, 300, 500],\n",
    "    'rr_classifier__min_samples_split': [2, 4, 6],\n",
    "    'rr_classifier__min_samples_leaf': [1, 3, 5],\n",
    "    \n",
    "}\n",
    "\n",
    "rr_model = GridSearchCV(rr_pipe, rr_paramgrid, cv = 5, n_jobs = -1)\n",
    "rr_model.fit(X_train, y_train)\n",
    "print(\"The score of the primary RR model is: \", rr_model.score(X_test, y_test))\n",
    "print(\"The model's best parameters are: \", rr_model.best_params_)\n"
   ]
  },
  {
   "cell_type": "code",
   "execution_count": 36,
   "id": "0e3a7532-f3f5-4b6c-96fe-f29beb241df4",
   "metadata": {},
   "outputs": [],
   "source": [
    "\"\"\"\n",
    "Make a data frame using the results from GridSearchCV for model evaluation\n",
    "\"\"\"\n",
    "\n",
    "rr_results_dataframe = pd.DataFrame(rr_model.cv_results_)[['params', \n",
    "                                                       'mean_test_score', \n",
    "                                                       'std_test_score',\n",
    "                                                       #'mean_train_score',\n",
    "                                                       #'std_train_score',\n",
    "                                                       'rank_test_score',\n",
    "                                                       'mean_fit_time',\n",
    "                                                       'std_fit_time',\n",
    "                                                       'mean_score_time',\n",
    "                                                       'std_score_time',\n",
    "                                                      ]]\n",
    "\n",
    "rr_results_dataframe['total_running_time'] = rr_results_dataframe['mean_fit_time'] + rr_results_dataframe['mean_score_time']\n",
    "rr_results_dataframe.to_csv('rr_results.csv', index=False)"
   ]
  },
  {
   "cell_type": "code",
   "execution_count": 38,
   "id": "bdb19b42-f99e-4bdd-9610-08f880a37e9c",
   "metadata": {},
   "outputs": [
    {
     "name": "stdout",
     "output_type": "stream",
     "text": [
      "The score of the primary Ada model is:  0.888121546961326\n",
      "The model's best parameters are:  {'ada_classifier__learning_rate': 0.5, 'ada_classifier__n_estimators': 10, 'feature_selection__max_features': 1316}\n"
     ]
    }
   ],
   "source": [
    "\"\"\"\n",
    "AdaBoost Classifer with Hyperparameter tuning and Features selection\n",
    "\"\"\"\n",
    "\n",
    "from sklearn.ensemble import AdaBoostClassifier\n",
    "\n",
    "ada_pipe = Pipeline([\n",
    "    ('feature_selection', SelectFromModel(RandomForestClassifier(), threshold=-np.inf)),\n",
    "    \n",
    "    ('ada_classifier', AdaBoostClassifier())\n",
    "])\n",
    "\n",
    "ada_paramgrid = {\n",
    "    'feature_selection__max_features': [1881, 1692, 1504, 1316, 940, 752], # keep 100, 90, 80, 70, 60, 50, 40% of data\n",
    "    'ada_classifier__n_estimators': [10, 30, 50, 70, 90],\n",
    "    'ada_classifier__learning_rate': [0.01, 0.05, 0.1, 0.5, 1],\n",
    "}\n",
    "\n",
    "ada_model = GridSearchCV(ada_pipe, ada_paramgrid, cv = 5, n_jobs = -1)\n",
    "ada_model.fit(X_train, y_train)\n",
    "print(\"The score of the primary Ada model is: \", ada_model.score(X_test, y_test))\n",
    "print(\"The model's best parameters are: \", ada_model.best_params_)\n",
    "\n",
    "\n",
    "\"\"\"\n",
    "Make a data frame using the results from GridSearchCV for model evaluation\n",
    "\"\"\"\n",
    "\n",
    "ada_results_dataframe = pd.DataFrame(ada_model.cv_results_)[['params', \n",
    "                                                       'mean_test_score', \n",
    "                                                       'std_test_score',\n",
    "                                                       #'mean_train_score',\n",
    "                                                       #'std_train_score',\n",
    "                                                       'rank_test_score',\n",
    "                                                       'mean_fit_time',\n",
    "                                                       'std_fit_time',\n",
    "                                                       'mean_score_time',\n",
    "                                                       'std_score_time',\n",
    "                                                      ]]\n",
    "\n",
    "ada_results_dataframe['total_running_time'] = ada_results_dataframe['mean_fit_time'] + ada_results_dataframe['mean_score_time']\n",
    "ada_results_dataframe.to_csv('ada_results.csv', index=False)"
   ]
  },
  {
   "cell_type": "code",
   "execution_count": 9,
   "id": "fe1f1083-cff2-461a-ba2e-8935d6151813",
   "metadata": {},
   "outputs": [
    {
     "name": "stdout",
     "output_type": "stream",
     "text": [
      "0.888121546961326\n",
      "3.3099694210104644\n"
     ]
    }
   ],
   "source": [
    "\"\"\"\n",
    "Cross_val_score for AdaBoost\n",
    "\"\"\"\n",
    "\n",
    "from sklearn.ensemble import AdaBoostClassifier\n",
    "import timeit\n",
    "skf = StratifiedKFold(n_splits=10)\n",
    "\n",
    "t_0 = timeit.default_timer()\n",
    "ada_pipe = Pipeline([\n",
    "    ('feature_selection', SelectFromModel(RandomForestClassifier(), threshold=-np.inf, max_features=1316)),\n",
    "    \n",
    "    ('ada_classifier', AdaBoostClassifier(n_estimators=10, learning_rate=0.5))\n",
    "])\n",
    "#tuned_score = cross_val_score(ada_pipe, X_train, y_train, cv=skf)\n",
    "#t_1 = timeit.default_timer()\n",
    "#print(\"The validation time of the Ada model is: \", t_1 - t_0)\n",
    "#print(\"The validation score of the Ada model is: \", np.mean(tuned_score))\n",
    "#print(\"The validation std of the Ada model is: \", np.std(tuned_score))   \n",
    "ada_pipe.fit(X_train, y_train)\n",
    "now = ada_pipe.score(X_test, y_test)\n",
    "t_1 = timeit.default_timer()\n",
    "print(now)\n",
    "print(t_1 - t_0)\n",
    "\n"
   ]
  },
  {
   "cell_type": "code",
   "execution_count": 6,
   "id": "6390bdf4-210c-4fd4-b50e-e46e51791a89",
   "metadata": {},
   "outputs": [
    {
     "name": "stderr",
     "output_type": "stream",
     "text": [
      "/opt/pub/eb/apps/all/DavidsonJupyter/2021-common-GCCcore-10.2.0/lib/python3.8/site-packages/sklearn/base.py:443: UserWarning: X has feature names, but Binarizer was fitted without feature names\n",
      "  warnings.warn(\n"
     ]
    },
    {
     "data": {
      "text/html": [
       "<div>\n",
       "<style scoped>\n",
       "    .dataframe tbody tr th:only-of-type {\n",
       "        vertical-align: middle;\n",
       "    }\n",
       "\n",
       "    .dataframe tbody tr th {\n",
       "        vertical-align: top;\n",
       "    }\n",
       "\n",
       "    .dataframe thead th {\n",
       "        text-align: right;\n",
       "    }\n",
       "</style>\n",
       "<table border=\"1\" class=\"dataframe\">\n",
       "  <thead>\n",
       "    <tr style=\"text-align: right;\">\n",
       "      <th></th>\n",
       "      <th>hsa-let-7a-1</th>\n",
       "      <th>hsa-let-7a-2</th>\n",
       "      <th>hsa-let-7a-3</th>\n",
       "      <th>hsa-let-7b</th>\n",
       "      <th>hsa-let-7c</th>\n",
       "      <th>hsa-let-7d</th>\n",
       "      <th>hsa-let-7e</th>\n",
       "      <th>hsa-let-7f-1</th>\n",
       "      <th>hsa-let-7f-2</th>\n",
       "      <th>hsa-let-7g</th>\n",
       "      <th>...</th>\n",
       "      <th>hsa-mir-942</th>\n",
       "      <th>hsa-mir-943</th>\n",
       "      <th>hsa-mir-944</th>\n",
       "      <th>hsa-mir-95</th>\n",
       "      <th>hsa-mir-9500</th>\n",
       "      <th>hsa-mir-96</th>\n",
       "      <th>hsa-mir-98</th>\n",
       "      <th>hsa-mir-99a</th>\n",
       "      <th>hsa-mir-99b</th>\n",
       "      <th>Cancer Type</th>\n",
       "    </tr>\n",
       "  </thead>\n",
       "  <tbody>\n",
       "    <tr>\n",
       "      <th>0</th>\n",
       "      <td>1.0</td>\n",
       "      <td>1.0</td>\n",
       "      <td>1.0</td>\n",
       "      <td>1.0</td>\n",
       "      <td>1.0</td>\n",
       "      <td>1.0</td>\n",
       "      <td>1.0</td>\n",
       "      <td>1.0</td>\n",
       "      <td>1.0</td>\n",
       "      <td>1.0</td>\n",
       "      <td>...</td>\n",
       "      <td>0.0</td>\n",
       "      <td>0.0</td>\n",
       "      <td>0.0</td>\n",
       "      <td>0.0</td>\n",
       "      <td>0.0</td>\n",
       "      <td>1.0</td>\n",
       "      <td>1.0</td>\n",
       "      <td>1.0</td>\n",
       "      <td>1.0</td>\n",
       "      <td>0.0</td>\n",
       "    </tr>\n",
       "    <tr>\n",
       "      <th>1</th>\n",
       "      <td>1.0</td>\n",
       "      <td>1.0</td>\n",
       "      <td>1.0</td>\n",
       "      <td>1.0</td>\n",
       "      <td>1.0</td>\n",
       "      <td>1.0</td>\n",
       "      <td>1.0</td>\n",
       "      <td>1.0</td>\n",
       "      <td>1.0</td>\n",
       "      <td>1.0</td>\n",
       "      <td>...</td>\n",
       "      <td>0.0</td>\n",
       "      <td>0.0</td>\n",
       "      <td>0.0</td>\n",
       "      <td>0.0</td>\n",
       "      <td>0.0</td>\n",
       "      <td>1.0</td>\n",
       "      <td>1.0</td>\n",
       "      <td>1.0</td>\n",
       "      <td>1.0</td>\n",
       "      <td>0.0</td>\n",
       "    </tr>\n",
       "    <tr>\n",
       "      <th>2</th>\n",
       "      <td>1.0</td>\n",
       "      <td>1.0</td>\n",
       "      <td>1.0</td>\n",
       "      <td>1.0</td>\n",
       "      <td>1.0</td>\n",
       "      <td>1.0</td>\n",
       "      <td>1.0</td>\n",
       "      <td>1.0</td>\n",
       "      <td>1.0</td>\n",
       "      <td>1.0</td>\n",
       "      <td>...</td>\n",
       "      <td>1.0</td>\n",
       "      <td>0.0</td>\n",
       "      <td>0.0</td>\n",
       "      <td>0.0</td>\n",
       "      <td>0.0</td>\n",
       "      <td>1.0</td>\n",
       "      <td>1.0</td>\n",
       "      <td>1.0</td>\n",
       "      <td>1.0</td>\n",
       "      <td>0.0</td>\n",
       "    </tr>\n",
       "    <tr>\n",
       "      <th>3</th>\n",
       "      <td>1.0</td>\n",
       "      <td>1.0</td>\n",
       "      <td>1.0</td>\n",
       "      <td>1.0</td>\n",
       "      <td>1.0</td>\n",
       "      <td>1.0</td>\n",
       "      <td>1.0</td>\n",
       "      <td>1.0</td>\n",
       "      <td>1.0</td>\n",
       "      <td>1.0</td>\n",
       "      <td>...</td>\n",
       "      <td>0.0</td>\n",
       "      <td>0.0</td>\n",
       "      <td>0.0</td>\n",
       "      <td>0.0</td>\n",
       "      <td>0.0</td>\n",
       "      <td>1.0</td>\n",
       "      <td>1.0</td>\n",
       "      <td>1.0</td>\n",
       "      <td>1.0</td>\n",
       "      <td>0.0</td>\n",
       "    </tr>\n",
       "    <tr>\n",
       "      <th>4</th>\n",
       "      <td>1.0</td>\n",
       "      <td>1.0</td>\n",
       "      <td>1.0</td>\n",
       "      <td>1.0</td>\n",
       "      <td>1.0</td>\n",
       "      <td>1.0</td>\n",
       "      <td>1.0</td>\n",
       "      <td>1.0</td>\n",
       "      <td>1.0</td>\n",
       "      <td>1.0</td>\n",
       "      <td>...</td>\n",
       "      <td>0.0</td>\n",
       "      <td>0.0</td>\n",
       "      <td>0.0</td>\n",
       "      <td>0.0</td>\n",
       "      <td>0.0</td>\n",
       "      <td>0.0</td>\n",
       "      <td>1.0</td>\n",
       "      <td>1.0</td>\n",
       "      <td>1.0</td>\n",
       "      <td>0.0</td>\n",
       "    </tr>\n",
       "    <tr>\n",
       "      <th>...</th>\n",
       "      <td>...</td>\n",
       "      <td>...</td>\n",
       "      <td>...</td>\n",
       "      <td>...</td>\n",
       "      <td>...</td>\n",
       "      <td>...</td>\n",
       "      <td>...</td>\n",
       "      <td>...</td>\n",
       "      <td>...</td>\n",
       "      <td>...</td>\n",
       "      <td>...</td>\n",
       "      <td>...</td>\n",
       "      <td>...</td>\n",
       "      <td>...</td>\n",
       "      <td>...</td>\n",
       "      <td>...</td>\n",
       "      <td>...</td>\n",
       "      <td>...</td>\n",
       "      <td>...</td>\n",
       "      <td>...</td>\n",
       "      <td>...</td>\n",
       "    </tr>\n",
       "    <tr>\n",
       "      <th>2890</th>\n",
       "      <td>1.0</td>\n",
       "      <td>1.0</td>\n",
       "      <td>1.0</td>\n",
       "      <td>1.0</td>\n",
       "      <td>1.0</td>\n",
       "      <td>1.0</td>\n",
       "      <td>1.0</td>\n",
       "      <td>1.0</td>\n",
       "      <td>1.0</td>\n",
       "      <td>1.0</td>\n",
       "      <td>...</td>\n",
       "      <td>1.0</td>\n",
       "      <td>0.0</td>\n",
       "      <td>0.0</td>\n",
       "      <td>0.0</td>\n",
       "      <td>0.0</td>\n",
       "      <td>0.0</td>\n",
       "      <td>1.0</td>\n",
       "      <td>1.0</td>\n",
       "      <td>1.0</td>\n",
       "      <td>0.0</td>\n",
       "    </tr>\n",
       "    <tr>\n",
       "      <th>2891</th>\n",
       "      <td>1.0</td>\n",
       "      <td>1.0</td>\n",
       "      <td>1.0</td>\n",
       "      <td>1.0</td>\n",
       "      <td>1.0</td>\n",
       "      <td>1.0</td>\n",
       "      <td>1.0</td>\n",
       "      <td>1.0</td>\n",
       "      <td>1.0</td>\n",
       "      <td>1.0</td>\n",
       "      <td>...</td>\n",
       "      <td>0.0</td>\n",
       "      <td>0.0</td>\n",
       "      <td>0.0</td>\n",
       "      <td>0.0</td>\n",
       "      <td>0.0</td>\n",
       "      <td>0.0</td>\n",
       "      <td>1.0</td>\n",
       "      <td>1.0</td>\n",
       "      <td>1.0</td>\n",
       "      <td>0.0</td>\n",
       "    </tr>\n",
       "    <tr>\n",
       "      <th>2892</th>\n",
       "      <td>1.0</td>\n",
       "      <td>1.0</td>\n",
       "      <td>1.0</td>\n",
       "      <td>1.0</td>\n",
       "      <td>1.0</td>\n",
       "      <td>1.0</td>\n",
       "      <td>1.0</td>\n",
       "      <td>1.0</td>\n",
       "      <td>1.0</td>\n",
       "      <td>1.0</td>\n",
       "      <td>...</td>\n",
       "      <td>0.0</td>\n",
       "      <td>0.0</td>\n",
       "      <td>0.0</td>\n",
       "      <td>0.0</td>\n",
       "      <td>0.0</td>\n",
       "      <td>0.0</td>\n",
       "      <td>1.0</td>\n",
       "      <td>1.0</td>\n",
       "      <td>1.0</td>\n",
       "      <td>0.0</td>\n",
       "    </tr>\n",
       "    <tr>\n",
       "      <th>2893</th>\n",
       "      <td>1.0</td>\n",
       "      <td>1.0</td>\n",
       "      <td>1.0</td>\n",
       "      <td>1.0</td>\n",
       "      <td>1.0</td>\n",
       "      <td>1.0</td>\n",
       "      <td>1.0</td>\n",
       "      <td>1.0</td>\n",
       "      <td>1.0</td>\n",
       "      <td>1.0</td>\n",
       "      <td>...</td>\n",
       "      <td>0.0</td>\n",
       "      <td>0.0</td>\n",
       "      <td>0.0</td>\n",
       "      <td>0.0</td>\n",
       "      <td>0.0</td>\n",
       "      <td>0.0</td>\n",
       "      <td>1.0</td>\n",
       "      <td>1.0</td>\n",
       "      <td>1.0</td>\n",
       "      <td>0.0</td>\n",
       "    </tr>\n",
       "    <tr>\n",
       "      <th>2894</th>\n",
       "      <td>1.0</td>\n",
       "      <td>1.0</td>\n",
       "      <td>1.0</td>\n",
       "      <td>1.0</td>\n",
       "      <td>1.0</td>\n",
       "      <td>1.0</td>\n",
       "      <td>1.0</td>\n",
       "      <td>1.0</td>\n",
       "      <td>1.0</td>\n",
       "      <td>1.0</td>\n",
       "      <td>...</td>\n",
       "      <td>0.0</td>\n",
       "      <td>0.0</td>\n",
       "      <td>0.0</td>\n",
       "      <td>0.0</td>\n",
       "      <td>0.0</td>\n",
       "      <td>0.0</td>\n",
       "      <td>1.0</td>\n",
       "      <td>1.0</td>\n",
       "      <td>1.0</td>\n",
       "      <td>0.0</td>\n",
       "    </tr>\n",
       "  </tbody>\n",
       "</table>\n",
       "<p>2895 rows × 1882 columns</p>\n",
       "</div>"
      ],
      "text/plain": [
       "0     hsa-let-7a-1  hsa-let-7a-2  hsa-let-7a-3  hsa-let-7b  hsa-let-7c  \\\n",
       "0              1.0           1.0           1.0         1.0         1.0   \n",
       "1              1.0           1.0           1.0         1.0         1.0   \n",
       "2              1.0           1.0           1.0         1.0         1.0   \n",
       "3              1.0           1.0           1.0         1.0         1.0   \n",
       "4              1.0           1.0           1.0         1.0         1.0   \n",
       "...            ...           ...           ...         ...         ...   \n",
       "2890           1.0           1.0           1.0         1.0         1.0   \n",
       "2891           1.0           1.0           1.0         1.0         1.0   \n",
       "2892           1.0           1.0           1.0         1.0         1.0   \n",
       "2893           1.0           1.0           1.0         1.0         1.0   \n",
       "2894           1.0           1.0           1.0         1.0         1.0   \n",
       "\n",
       "0     hsa-let-7d  hsa-let-7e  hsa-let-7f-1  hsa-let-7f-2  hsa-let-7g  ...  \\\n",
       "0            1.0         1.0           1.0           1.0         1.0  ...   \n",
       "1            1.0         1.0           1.0           1.0         1.0  ...   \n",
       "2            1.0         1.0           1.0           1.0         1.0  ...   \n",
       "3            1.0         1.0           1.0           1.0         1.0  ...   \n",
       "4            1.0         1.0           1.0           1.0         1.0  ...   \n",
       "...          ...         ...           ...           ...         ...  ...   \n",
       "2890         1.0         1.0           1.0           1.0         1.0  ...   \n",
       "2891         1.0         1.0           1.0           1.0         1.0  ...   \n",
       "2892         1.0         1.0           1.0           1.0         1.0  ...   \n",
       "2893         1.0         1.0           1.0           1.0         1.0  ...   \n",
       "2894         1.0         1.0           1.0           1.0         1.0  ...   \n",
       "\n",
       "0     hsa-mir-942  hsa-mir-943  hsa-mir-944  hsa-mir-95  hsa-mir-9500  \\\n",
       "0             0.0          0.0          0.0         0.0           0.0   \n",
       "1             0.0          0.0          0.0         0.0           0.0   \n",
       "2             1.0          0.0          0.0         0.0           0.0   \n",
       "3             0.0          0.0          0.0         0.0           0.0   \n",
       "4             0.0          0.0          0.0         0.0           0.0   \n",
       "...           ...          ...          ...         ...           ...   \n",
       "2890          1.0          0.0          0.0         0.0           0.0   \n",
       "2891          0.0          0.0          0.0         0.0           0.0   \n",
       "2892          0.0          0.0          0.0         0.0           0.0   \n",
       "2893          0.0          0.0          0.0         0.0           0.0   \n",
       "2894          0.0          0.0          0.0         0.0           0.0   \n",
       "\n",
       "0     hsa-mir-96  hsa-mir-98  hsa-mir-99a  hsa-mir-99b  Cancer Type  \n",
       "0            1.0         1.0          1.0          1.0          0.0  \n",
       "1            1.0         1.0          1.0          1.0          0.0  \n",
       "2            1.0         1.0          1.0          1.0          0.0  \n",
       "3            1.0         1.0          1.0          1.0          0.0  \n",
       "4            0.0         1.0          1.0          1.0          0.0  \n",
       "...          ...         ...          ...          ...          ...  \n",
       "2890         0.0         1.0          1.0          1.0          0.0  \n",
       "2891         0.0         1.0          1.0          1.0          0.0  \n",
       "2892         0.0         1.0          1.0          1.0          0.0  \n",
       "2893         0.0         1.0          1.0          1.0          0.0  \n",
       "2894         0.0         1.0          1.0          1.0          0.0  \n",
       "\n",
       "[2895 rows x 1882 columns]"
      ]
     },
     "execution_count": 6,
     "metadata": {},
     "output_type": "execute_result"
    }
   ],
   "source": [
    "from sklearn import preprocessing\n",
    "\n",
    "Binarized_Data = preprocessing.Binarizer(threshold= 10).transform(main_data)\n",
    "pd.DataFrame(Binarized_Data, columns=main_data.columns)"
   ]
  },
  {
   "cell_type": "code",
   "execution_count": 7,
   "id": "d4896af7-bea6-4799-b108-d7eda23c412a",
   "metadata": {},
   "outputs": [],
   "source": [
    "\"\"\"\n",
    "Train Test Split for binarized data\n",
    "\"\"\"\n",
    "binarized_X_data = main_data.iloc[:, :-1]\n",
    "binarized_y_data = main_data.iloc[:, -1]\n",
    "binarized_X_train, binarized_X_test, binarized_y_train, binarized_y_test = train_test_split(binarized_X_data, binarized_y_data, test_size=0.25, random_state=42, stratify=binarized_y_data)\n"
   ]
  },
  {
   "cell_type": "code",
   "execution_count": 8,
   "id": "c9647a3d-28a5-43f3-b2ab-dbc914f4507b",
   "metadata": {},
   "outputs": [
    {
     "name": "stdout",
     "output_type": "stream",
     "text": [
      "Cross validation accuracy is:  [0.9587156  0.95852535 0.97235023 0.99078341 0.95852535 0.97695853\n",
      " 0.96313364 0.94930876 0.96774194 0.96774194]\n",
      "0.9677588466579294\n"
     ]
    }
   ],
   "source": [
    "\"\"\"\n",
    "Random Forest for binarized data\n",
    "\"\"\"\n",
    "binarized_baseline_rr = RandomForestClassifier(n_jobs = -1)\n",
    "skf = StratifiedKFold(n_splits=10)\n",
    "print(\"Cross validation accuracy is: \", cross_val_score(binarized_baseline_rr, binarized_X_train, binarized_y_train, cv=skf))\n",
    "#binarized_baseline_rr.fit(binarized_X_train, binarized_y_train)\n",
    "print(np.mean(cross_val_score(binarized_baseline_rr, binarized_X_train, binarized_y_train, cv=skf)))\n",
    "#print(\"Test score is: \", binarized_baseline_rr.score(binarized_X_test, binarized_y_test))"
   ]
  },
  {
   "cell_type": "code",
   "execution_count": 39,
   "id": "5ea3210d-7337-4e59-8523-1edeecbfc643",
   "metadata": {},
   "outputs": [
    {
     "name": "stdout",
     "output_type": "stream",
     "text": [
      "Cross validation accuracy is:  [0.88073394 0.92626728 0.87096774 0.86175115 0.87096774 0.87557604\n",
      " 0.82488479 0.71428571 0.88940092 0.84331797]\n"
     ]
    }
   ],
   "source": [
    "\"\"\"\n",
    "AdaBoost for binarized data\n",
    "\"\"\"\n",
    "from sklearn.pipeline import make_pipeline\n",
    "\n",
    "ada_pipe = make_pipeline(SelectFromModel(RandomForestClassifier(), threshold=-np.inf, max_features = 1316),\n",
    "                         AdaBoostClassifier(n_estimators = 10, learning_rate=0.5))\n",
    "ada_pipe.fit(X_train, y_train)\n",
    "skf = StratifiedKFold(n_splits=10)\n",
    "print(\"Cross validation accuracy is: \", cross_val_score(ada_pipe, binarized_X_train, binarized_y_train, cv=skf))\n",
    "#binarized_baseline_rr.fit(binarized_X_train, binarized_y_train)\n",
    "#print(\"Test score is: \", binarized_baseline_rr.score(binarized_X_test, binarized_y_test))\n",
    "\n"
   ]
  },
  {
   "cell_type": "code",
   "execution_count": 41,
   "id": "e8e12a9b-f00c-4bb4-b36c-e0ebd37cb608",
   "metadata": {},
   "outputs": [
    {
     "data": {
      "text/plain": [
       "0.8558153299792839"
      ]
     },
     "execution_count": 41,
     "metadata": {},
     "output_type": "execute_result"
    }
   ],
   "source": [
    "test = cross_val_score(ada_pipe, binarized_X_train, binarized_y_train, cv=skf)\n",
    "np.mean(test)"
   ]
  },
  {
   "cell_type": "code",
   "execution_count": 10,
   "id": "ae43d408-1976-41b3-9f45-6b67cc9aea58",
   "metadata": {},
   "outputs": [
    {
     "name": "stdout",
     "output_type": "stream",
     "text": [
      "[50, 60, 70, 80, 90, 100, 110, 120, 130, 140, 150, 160, 170, 180, 190, 200, 210, 220, 230, 240, 250, 260, 270, 280, 290, 300, 310, 320, 330, 340, 350, 360, 370, 380, 390, 400, 410, 420, 430, 440]\n",
      "[0.9636152147821061, 0.9580897061656318, 0.9631558670558774, 0.9654526056870213, 0.9631543852890186, 0.9654570509875977, 0.963151421755301, 0.9659163987138264, 0.9613125490835273, 0.9668395394668602, 0.9663787099737727, 0.962235689836561, 0.9668395394668602, 0.9659149169469676, 0.9663801917406315, 0.9636166965489651, 0.965919362247544, 0.966833612399425, 0.965919362247544, 0.9677597166861766, 0.9663801917406314, 0.9654570509875976, 0.9640745625083349, 0.9654570509875976, 0.9673018507268066, 0.9673003689599478, 0.9668410212337191, 0.9663816735074903, 0.9691422051654393, 0.9668395394668602, 0.9672988871930891, 0.966842503000578, 0.9696030346585269, 0.9668410212337192, 0.9673033324936655, 0.9682220279461229, 0.9654585327544565, 0.9645353920014224, 0.9649977032613688, 0.9677611984530354]\n"
     ]
    }
   ],
   "source": [
    "\"\"\"\n",
    "Random Forest for num trees\n",
    "\"\"\"\n",
    "from sklearn.feature_selection import SelectFromModel\n",
    "from sklearn.pipeline import Pipeline\n",
    "from sklearn.model_selection import GridSearchCV\n",
    "from sklearn.pipeline import make_pipeline\n",
    "from sklearn.feature_selection import SelectPercentile, f_classif\n",
    "import math\n",
    "\n",
    "\n",
    "tree_list = list(range(50, 450, 10))\n",
    "num_tree = []\n",
    "validation_score = []\n",
    "validation_std = []\n",
    "\n",
    "rr_pipe = Pipeline([\n",
    "    ('feature_selection', SelectFromModel(RandomForestClassifier(), threshold=-np.inf, max_features = 1504)),\n",
    "    ('rr_classifier', RandomForestClassifier(max_features= 20, n_jobs = -1))\n",
    "])\n",
    "\n",
    "skf = StratifiedKFold(n_splits=7)\n",
    "for i in tree_list:\n",
    "    rr_pipe.set_params(rr_classifier__n_estimators=i) # set the hyperparameter\n",
    "    val_score = cross_val_score(rr_pipe, X_train, y_train, cv=skf)\n",
    "    validation_score.append(np.mean( val_score))\n",
    "    validation_std.append(np.std(val_score))\n",
    "    num_tree.append(i)\n",
    "\n",
    "print(num_tree)\n",
    "print(validation_score)\n"
   ]
  },
  {
   "cell_type": "code",
   "execution_count": 11,
   "id": "319ec303-1cbd-4f2a-a6a0-3e218477e657",
   "metadata": {},
   "outputs": [
    {
     "data": {
      "image/png": "[encoded data removed]",
      "text/plain": [
       "<Figure size 432x288 with 1 Axes>"
      ]
     },
     "metadata": {
      "needs_background": "light"
     },
     "output_type": "display_data"
    }
   ],
   "source": [
    "\"\"\"\n",
    "Plot for numtry\n",
    "\"\"\"\n",
    "from sklearn.feature_selection import SelectFromModel\n",
    "from sklearn.pipeline import Pipeline\n",
    "from sklearn.model_selection import GridSearchCV\n",
    "from sklearn.pipeline import make_pipeline\n",
    "from sklearn.feature_selection import SelectPercentile, f_classif\n",
    "import math\n",
    "import matplotlib.pyplot as plt\n",
    "\n",
    "plt.plot(num_tree, validation_score, label='Validation Score', marker='o')\n",
    "plt.fill_between(num_tree, np.array(validation_score) - np.array(validation_std),\n",
    "                 np.array(validation_score) + np.array(validation_std), alpha=0.1, label='Confidence interval')\n",
    "plt.title('Random Forest Validation Curve')\n",
    "plt.xlabel('Number of Trees')\n",
    "plt.ylabel('Validation Accuracy')\n",
    "plt.ylim(0.9, 1.0)\n",
    "plt.grid(axis='y', alpha=0.75)\n",
    "plt.grid(axis='x', alpha=0.75)\n",
    "plt.legend()\n",
    "#plt.savefig('tree_num.png', dpi=300)\n",
    "plt.show()"
   ]
  },
  {
   "cell_type": "code",
   "execution_count": 28,
   "id": "4bf51457-1640-4a0b-8dea-c92fdb421c57",
   "metadata": {},
   "outputs": [
    {
     "name": "stdout",
     "output_type": "stream",
     "text": [
      "[14, 16, 18, 20, 22, 24, 26, 28, 30, 32, 34, 36, 38]\n",
      "[0.9640790078089113, 0.9645353920014225, 0.9645383555351401, 0.9668410212337191, 0.9649991850282277, 0.9686828574392106, 0.9677597166861768, 0.9659178804806852, 0.9673003689599479, 0.9691436869322981, 0.9673003689599479, 0.9659193622475438, 0.9677611984530354]\n"
     ]
    }
   ],
   "source": [
    "\"\"\"\n",
    "Random Forest for mtry\n",
    "\"\"\"\n",
    "from sklearn.feature_selection import SelectFromModel\n",
    "from sklearn.pipeline import Pipeline\n",
    "from sklearn.model_selection import GridSearchCV\n",
    "from sklearn.pipeline import make_pipeline\n",
    "from sklearn.feature_selection import SelectPercentile, f_classif\n",
    "import math\n",
    "import matplotlib.pyplot as plt\n",
    "\n",
    "mtry_list = list(range(14, 40, 2))\n",
    "mtry = []\n",
    "validation_score_1 = []\n",
    "validation_std_1 = []\n",
    "\n",
    "rr_pipe = Pipeline([\n",
    "    ('feature_selection', SelectFromModel(RandomForestClassifier(), threshold=-np.inf, max_features = 1504)),\n",
    "    ('rr_classifier', RandomForestClassifier(n_estimators = 240, n_jobs = -1))\n",
    "])\n",
    "\n",
    "skf = StratifiedKFold(n_splits=7)\n",
    "for i in mtry_list:\n",
    "    rr_pipe.set_params(rr_classifier__max_features=i) # set the hyperparameter\n",
    "    val_score = cross_val_score(rr_pipe, X_train, y_train, cv=skf)\n",
    "    validation_score_1.append(np.mean(val_score))\n",
    "    validation_std_1.append(np.std(val_score))\n",
    "    mtry.append(i)\n",
    "\n",
    "print(mtry)\n",
    "print(validation_score_1)\n"
   ]
  },
  {
   "cell_type": "code",
   "execution_count": 22,
   "id": "91a9dacf-68a8-41f6-976f-b8558c8f563f",
   "metadata": {},
   "outputs": [
    {
     "name": "stdout",
     "output_type": "stream",
     "text": [
      "[14, 16, 18, 20, 22, 24, 26, 28, 30, 32, 34, 36, 38]\n",
      "[0.9645353920014225, 0.9659193622475438, 0.9677597166861768, 0.9677626802198942, 0.9663816735074905, 0.9654585327544564, 0.9673033324936656, 0.9649947397276514, 0.9668395394668602, 0.9673003689599479, 0.9682220279461229, 0.9696030346585267, 0.9663801917406314]\n",
      "[0.009587469454896148, 0.009860581641526577, 0.008946842278749612, 0.007071762411342155, 0.008383134995725704, 0.008007586009309328, 0.012693608530739049, 0.009659755324826826, 0.011385585684008267, 0.009174309218442834, 0.009172373839870672, 0.009717055820402392, 0.010863866957183067]\n"
     ]
    }
   ],
   "source": [
    "print(mtry)\n",
    "print(validation_score_1)\n",
    "print(validation_std_1)"
   ]
  },
  {
   "cell_type": "code",
   "execution_count": 39,
   "id": "05a7e805-cd50-4fa7-abb4-71c698503dfe",
   "metadata": {},
   "outputs": [
    {
     "data": {
      "image/png": "[encoded data removed]",
      "text/plain": [
       "<Figure size 432x288 with 1 Axes>"
      ]
     },
     "metadata": {
      "needs_background": "light"
     },
     "output_type": "display_data"
    }
   ],
   "source": [
    "\"\"\"\n",
    "Plot for mtry\n",
    "\"\"\"\n",
    "\n",
    "plt.plot(mtry, validation_score_1, label='Validation Score', marker='o')\n",
    "plt.fill_between(mtry, np.array(validation_score_1) - np.array(validation_std_1),\n",
    "                 np.array(validation_score_1) + np.array(validation_std_1), alpha=0.1, label='Confidence interval')\n",
    "plt.title('Random Forest Validation Curve')\n",
    "plt.xlabel('Number of features to be considered for splitting at each node')\n",
    "plt.ylabel('Validation Accuracy')\n",
    "plt.ylim(0.9, 1.0)\n",
    "plt.grid(axis='y', alpha=0.75)\n",
    "plt.grid(axis='x', alpha=0.75)\n",
    "plt.legend()\n",
    "plt.savefig('mtrycurve.png', dpi=300)\n",
    "plt.show()"
   ]
  },
  {
   "cell_type": "code",
   "execution_count": 5,
   "id": "53ac1324-1cc4-434e-b2d0-63e984a4b71d",
   "metadata": {},
   "outputs": [],
   "source": [
    "from sklearn.feature_selection import SelectFromModel\n",
    "from sklearn.pipeline import Pipeline\n",
    "from sklearn.model_selection import GridSearchCV\n",
    "from sklearn.pipeline import make_pipeline\n",
    "from sklearn.feature_selection import SelectPercentile, f_classif\n",
    "import math\n",
    "import matplotlib.pyplot as plt\n",
    "import matplotlib.pyplot as plt\n",
    "from sklearn.metrics import confusion_matrix, ConfusionMatrixDisplay"
   ]
  },
  {
   "cell_type": "code",
   "execution_count": 6,
   "id": "08d37d00-1932-4248-a755-a4ce9319a208",
   "metadata": {},
   "outputs": [
    {
     "name": "stdout",
     "output_type": "stream",
     "text": [
      "The validation time of the tune-adjusted RR model is:  29.547425594180822\n",
      "The validation score of the tune-adjusted RR model is:  0.9682260178412887\n",
      "The validation std of the tune-adjusted RR model is:  0.009936036381392434\n",
      "The validation time of the gridsearch RR model is:  29.717371072154492\n",
      "The validation score of the gridsearch RR model is:  0.9663826998689384\n",
      "The validation std of the gridsearch RR model is:  0.01107227582063128\n",
      "The validation time of the baseline RR model is:  7.814940650947392\n",
      "The validation score of the baseline RR model is:  0.9677609605546866\n",
      "The validation std of the gridsearch RR model is:  0.010491985146478944\n"
     ]
    }
   ],
   "source": [
    "\"\"\"\n",
    "Score validation for all rr model\n",
    "\"\"\"\n",
    "import timeit\n",
    "\n",
    "skf = StratifiedKFold(n_splits=10)\n",
    "\n",
    "t_0 = timeit.default_timer()\n",
    "rr_pipe_2 = Pipeline([\n",
    "    ('feature_selection', SelectFromModel(RandomForestClassifier(), threshold=-np.inf,max_features=1504)),\n",
    "    ('rr_classifier', RandomForestClassifier(max_features = 24, n_estimators=240, n_jobs = -1))\n",
    "])\n",
    "tuned_score = cross_val_score(rr_pipe_2, X_train, y_train, cv=skf)\n",
    "t_1 = timeit.default_timer()\n",
    "\n",
    "print(\"The validation time of the tune-adjusted RR model is: \", t_1 - t_0)\n",
    "print(\"The validation score of the tune-adjusted RR model is: \", np.mean(tuned_score))\n",
    "print(\"The validation std of the tune-adjusted RR model is: \", np.std(tuned_score))   \n",
    "\n",
    "t_0 = timeit.default_timer()\n",
    "rr_pipe_1 = Pipeline([\n",
    "    ('feature_selection', SelectFromModel(RandomForestClassifier(), threshold=-np.inf,max_features=1504)),\n",
    "    ('rr_classifier', RandomForestClassifier(max_features = 20, n_estimators=300, n_jobs = -1))\n",
    "])\n",
    "grid_score = cross_val_score(rr_pipe_1, X_train, y_train, cv=skf)\n",
    "t_1 = timeit.default_timer()\n",
    "\n",
    "print(\"The validation time of the gridsearch RR model is: \", t_1 - t_0)\n",
    "print(\"The validation score of the gridsearch RR model is: \", np.mean(grid_score))\n",
    "print(\"The validation std of the gridsearch RR model is: \", np.std(grid_score))\n",
    "\n",
    "t_0 = timeit.default_timer()\n",
    "base_score = cross_val_score(baseline_rr, X_train, y_train, cv=skf)\n",
    "baseline_rr = RandomForestClassifier(n_jobs = -1)\n",
    "t_1 = timeit.default_timer()\n",
    "\n",
    "print(\"The validation time of the baseline RR model is: \", t_1 - t_0)\n",
    "print(\"The validation score of the baseline RR model is: \", np.mean(base_score))\n",
    "print(\"The validation std of the gridsearch RR model is: \", np.std(base_score))\n"
   ]
  },
  {
   "cell_type": "code",
   "execution_count": 8,
   "id": "2ca6b4f5-6615-494d-9af5-f20c36661f1d",
   "metadata": {},
   "outputs": [
    {
     "data": {
      "text/plain": [
       "2.9270596732385457"
      ]
     },
     "execution_count": 8,
     "metadata": {},
     "output_type": "execute_result"
    }
   ],
   "source": [
    "import timeit\n",
    "t_0 = timeit.default_timer()\n",
    "rr_pipe_2 = Pipeline([\n",
    "    ('feature_selection', SelectFromModel(RandomForestClassifier(), threshold=-np.inf,max_features=1504)),\n",
    "    ('rr_classifier', RandomForestClassifier(max_features = 24, n_estimators=240, n_jobs = -1))\n",
    "])\n",
    "rr_pipe_2.fit(X_train, y_train)\n",
    "rr_pipe_2.score(X_test, y_test)\n",
    "t_1 = timeit.default_timer()\n",
    "t_1 - t_0"
   ]
  },
  {
   "cell_type": "code",
   "execution_count": null,
   "id": "b9864bfe-c41e-4fe1-8b71-5b970839ea7d",
   "metadata": {},
   "outputs": [],
   "source": []
  },
  {
   "cell_type": "code",
   "execution_count": 18,
   "id": "2f004e45-fa62-4509-ae7f-ad21eda1750a",
   "metadata": {},
   "outputs": [
    {
     "data": {
      "image/png": "[encoded data removed]",
      "text/plain": [
       "<Figure size 432x288 with 1 Axes>"
      ]
     },
     "metadata": {
      "needs_background": "light"
     },
     "output_type": "display_data"
    }
   ],
   "source": [
    "\"\"\"\n",
    "Plot features importance\n",
    "\"\"\"\n",
    "import seaborn as sns\n",
    "\n",
    "\n",
    "rf = RandomForestClassifier()\n",
    "rf.fit(X_train, y_train)\n",
    "rf.feature_importances_\n",
    "rf.feature_names_in_\n",
    "\n",
    "importances_df = pd.DataFrame({\"feature_names\" : rf.feature_names_in_, \n",
    "                               \"importances\" : rf.feature_importances_})\n",
    "                             \n",
    "# Plotting bar chart, g is from graph\n",
    "g = sns.barplot(x=importances_df[\"feature_names\"], \n",
    "                y=importances_df[\"importances\"])\n",
    "g.set_title(\"Feature Importances Distribution\", fontsize=14);    \n",
    "g.set(xticklabels=[])  # remove x-axis tick labels\n",
    "g.set(xlabel=None)  # remove the axis label\n",
    "g.tick_params(bottom=False)  # remove the ticks\n",
    "plt.savefig('importances.png', dpi=300)\n",
    "plt.show()"
   ]
  },
  {
   "cell_type": "code",
   "execution_count": 15,
   "id": "a47d8a0b-13c2-4b50-b043-eed48dc460d3",
   "metadata": {},
   "outputs": [
    {
     "data": {
      "image/png": "[encoded data removed]",
      "text/plain": [
       "<Figure size 432x288 with 1 Axes>"
      ]
     },
     "metadata": {
      "needs_background": "light"
     },
     "output_type": "display_data"
    }
   ],
   "source": [
    "g = sns.barplot(data=importances_df, \n",
    "                x=\"importances\", \n",
    "                y=\"feature_names\")\n",
    "g.set_title(\"Distribution of Feature importances \", fontsize=14)\n",
    "g.set(yticklabels=[])  # remove x-axis tick labels\n",
    "g.set(ylabel=None)  # remove the axis label\n",
    "g.tick_params(bottom=False)  # remove the ticks\n",
    "g.set(yticks=[])\n",
    "plt.xlim(0.00, 0.010)\n",
    "plt.savefig('importances.png', dpi=300)\n",
    "plt.show()"
   ]
  },
  {
   "cell_type": "code",
   "execution_count": 26,
   "id": "36508ae2-4989-491c-91a7-1f8f652ec1b6",
   "metadata": {},
   "outputs": [
    {
     "data": {
      "image/png": "[encoded data removed]",
      "text/plain": [
       "<Figure size 720x576 with 1 Axes>"
      ]
     },
     "metadata": {
      "needs_background": "light"
     },
     "output_type": "display_data"
    }
   ],
   "source": [
    "#Calculate Feature Importance with Impunity Based method\n",
    "impurity_importances = rf.feature_importances_\n",
    "impurity_std = np.std([tree.feature_importances_ for tree in rf.estimators_], axis=0)\n",
    "\n",
    "#Plot Feature Importance\n",
    "feature_names = [f\"feature {i}\" for i in range(X_data.shape[1])]\n",
    "forest_importances = pd.Series(impurity_importances, index=feature_names)\n",
    "\n",
    "# Create a horizontal bar plot using Seaborn\n",
    "fig, ax = plt.subplots(figsize=(10, 8))\n",
    "sns.barplot(x=forest_importances, y=forest_importances.index, ax=ax)\n",
    "ax.set_title(\"Feature importances using MDI\", fontsize=14)\n",
    "ax.set_xlabel(\"Mean decrease in impurity\", fontsize=12)\n",
    "ax.set_ylabel(\"Features\", fontsize=12)\n",
    "sns.despine(left=True, bottom=True)\n",
    "fig.tight_layout()"
   ]
  },
  {
   "cell_type": "code",
   "execution_count": 70,
   "id": "7102e5e6-d4d7-4576-a4c1-66aec342d9fe",
   "metadata": {},
   "outputs": [
    {
     "name": "stdout",
     "output_type": "stream",
     "text": [
      "The validation time of the tune-adjusted RR model is:  32.481206719297916\n",
      "The validation score of the tune-adjusted RR model is:  0.9668393015685115\n",
      "The validation std of the tune-adjusted RR model is:  0.008918319978795896\n",
      "The validation time of the gridsearch RR model is:  29.79648661520332\n",
      "The validation score of the gridsearch RR model is:  0.9677609605546866\n",
      "The validation std of the gridsearch RR model is:  0.009866099685892856\n",
      "The validation time of the baseline RR model is:  7.945299295242876\n",
      "The validation score of the baseline RR model is:  0.9663826998689384\n",
      "The validation std of the gridsearch RR model is:  0.01048110025456183\n"
     ]
    }
   ],
   "source": [
    "\n",
    "t_0 = timeit.default_timer()\n",
    "rr_pipe_2 = Pipeline([\n",
    "    ('feature_selection', SelectFromModel(RandomForestClassifier(), threshold=-np.inf,max_features=1504)),\n",
    "    ('rr_classifier', RandomForestClassifier(max_features = 36, n_estimators=240, n_jobs = -1))\n",
    "])\n",
    "tuned_score = cross_val_score(rr_pipe_2, X_train, y_train, cv=skf)\n",
    "t_1 = timeit.default_timer()\n",
    "\n",
    "print(\"The validation time of the tune-adjusted RR model is: \", t_1 - t_0)\n",
    "print(\"The validation score of the tune-adjusted RR model is: \", np.mean(tuned_score))\n",
    "print(\"The validation std of the tune-adjusted RR model is: \", np.std(tuned_score))   \n",
    "\n",
    "t_0 = timeit.default_timer()\n",
    "rr_pipe_1 = Pipeline([\n",
    "    ('feature_selection', SelectFromModel(RandomForestClassifier(), threshold=-np.inf,max_features=1504)),\n",
    "    ('rr_classifier', RandomForestClassifier(max_features = 20, n_estimators=300, n_jobs = -1))\n",
    "])\n",
    "grid_score = cross_val_score(rr_pipe_1, X_train, y_train, cv=skf)\n",
    "t_1 = timeit.default_timer()\n",
    "\n",
    "print(\"The validation time of the gridsearch RR model is: \", t_1 - t_0)\n",
    "print(\"The validation score of the gridsearch RR model is: \", np.mean(grid_score))\n",
    "print(\"The validation std of the gridsearch RR model is: \", np.std(grid_score))\n",
    "\n",
    "t_0 = timeit.default_timer()\n",
    "baseline_rr = RandomForestClassifier(n_jobs = -1)\n",
    "base_score = cross_val_score(baseline_rr, X_train, y_train, cv=skf)\n",
    "t_1 = timeit.default_timer()\n",
    "\n",
    "print(\"The validation time of the baseline RR model is: \", t_1 - t_0)\n",
    "print(\"The validation score of the baseline RR model is: \", np.mean(base_score))\n",
    "print(\"The validation std of the gridsearch RR model is: \", np.std(base_score))\n"
   ]
  },
  {
   "cell_type": "code",
   "execution_count": 51,
   "id": "a8448873-94e6-48dc-aef7-275edb59ac40",
   "metadata": {},
   "outputs": [
    {
     "name": "stdout",
     "output_type": "stream",
     "text": [
      "0.9820441988950276\n"
     ]
    }
   ],
   "source": [
    "t_0 = timeit.default_timer()\n",
    "rr_pipe_2 = Pipeline([\n",
    "    ('feature_selection', SelectFromModel(RandomForestClassifier(), threshold=-np.inf,max_features=1504)),\n",
    "    ('rr_classifier', RandomForestClassifier(max_features = 36, n_estimators=240, n_jobs = -1))\n",
    "])\n",
    "rr_pipe_2.fit(X_train, y_train)\n",
    "print(rr_pipe_2.score(X_test, y_test))\n",
    "t_1 = timeit.default_timer()"
   ]
  },
  {
   "cell_type": "code",
   "execution_count": 52,
   "id": "f4227aab-6f4b-4a5e-868a-73f8708b7f33",
   "metadata": {},
   "outputs": [
    {
     "name": "stdout",
     "output_type": "stream",
     "text": [
      "3.299480821006\n"
     ]
    }
   ],
   "source": [
    "print(t_1-t_0)"
   ]
  },
  {
   "cell_type": "code",
   "execution_count": 20,
   "id": "fd84b536-bb8c-45f5-956f-aec294810d6f",
   "metadata": {},
   "outputs": [
    {
     "data": {
      "text/plain": [
       "(724, 6)"
      ]
     },
     "execution_count": 20,
     "metadata": {},
     "output_type": "execute_result"
    }
   ],
   "source": [
    "y_score = rr_pipe_2.fit(X_train, y_train).predict_proba(X_test)\n",
    "from sklearn.preprocessing import LabelBinarizer\n",
    "label_binarizer = LabelBinarizer().fit(y_train)\n",
    "y_onehot_test = label_binarizer.transform(y_test)\n",
    "y_onehot_test.shape  # (n_samples, n_classes)\n",
    "#y_onehot_test"
   ]
  },
  {
   "cell_type": "code",
   "execution_count": 14,
   "id": "b4051282-f254-413b-931e-4ca36f3032e2",
   "metadata": {},
   "outputs": [
    {
     "data": {
      "image/png": "[encoded data removed]",
      "text/plain": [
       "<Figure size 576x432 with 2 Axes>"
      ]
     },
     "metadata": {
      "needs_background": "light"
     },
     "output_type": "display_data"
    },
    {
     "data": {
      "text/plain": [
       "array([1.        , 1.        , 1.        , 0.925     , 0.97727273,\n",
       "       1.        ])"
      ]
     },
     "execution_count": 14,
     "metadata": {},
     "output_type": "execute_result"
    }
   ],
   "source": [
    "import matplotlib.pyplot as plt\n",
    "from sklearn.metrics import confusion_matrix, ConfusionMatrixDisplay\n",
    "\n",
    "class_labels = ['BIC', 'KRCC','LA', 'LSCC','PA', 'UM']\n",
    "y_pred_rr = rr_pipe_2.predict(X_test)\n",
    "cm_rr = confusion_matrix(y_test, y_pred_rr)\n",
    "disp = ConfusionMatrixDisplay(confusion_matrix=cm_rr,\n",
    "                               display_labels=class_labels)\n",
    "fig, ax = plt.subplots(figsize=(8, 6))\n",
    "disp.plot(ax=ax)\n",
    "plt.grid(False)\n",
    "plt.savefig('confusion_matrix_rr.png', dpi=300)\n",
    "plt.show()\n",
    "\n",
    "# Accuracy by class\n",
    "cm_rr.diagonal()/cm_rr.sum(axis=1)"
   ]
  },
  {
   "cell_type": "code",
   "execution_count": 19,
   "id": "28035489-4ae0-47ca-83a7-02f3aa136f59",
   "metadata": {},
   "outputs": [
    {
     "data": {
      "image/png": "[encoded data removed]",
      "text/plain": [
       "<Figure size 432x288 with 2 Axes>"
      ]
     },
     "metadata": {
      "needs_background": "light"
     },
     "output_type": "display_data"
    }
   ],
   "source": [
    "from sklearn.metrics import classification_report\n",
    "import seaborn as sns\n",
    "target_name = ['Breast Invasive Carcinoma', 'Kidney Renal Clear Cell Carcinoma','Lung Adenocarcinoma', 'Lung Squamous Cell Carcinoma','Pancreatic Adenocarcinoma', 'Uveal Melanoma']\n",
    "clf_report = classification_report(y_test,\n",
    "                                   y_pred_rr,\n",
    "                                   target_names=target_name,\n",
    "                                   output_dict=True)\n",
    "sns_plot = sns.heatmap(pd.DataFrame(clf_report).iloc[:-1, :].T, annot=True)\n",
    "sns_plot.figure.savefig('heatmap_finalisedrr.png', dpi=300, bbox_inches='tight')"
   ]
  },
  {
   "cell_type": "code",
   "execution_count": 39,
   "id": "956f2782-0292-4ea1-a2cc-93769dfea4fc",
   "metadata": {},
   "outputs": [
    {
     "data": {
      "image/png": "[encoded data removed]",
      "text/plain": [
       "<Figure size 288x432 with 1 Axes>"
      ]
     },
     "metadata": {
      "needs_background": "light"
     },
     "output_type": "display_data"
    }
   ],
   "source": [
    "y_score = rr_pipe_2.fit(X_train, y_train).predict_proba(X_test)\n",
    "from sklearn.preprocessing import LabelBinarizer\n",
    "label_binarizer = LabelBinarizer().fit(y_train)\n",
    "y_onehot_test = label_binarizer.transform(y_test)\n",
    "y_onehot_test.shape  # (n_samples, n_classes)\n",
    "#y_onehot_test\n",
    "\n",
    "import matplotlib.pyplot as plt\n",
    "from sklearn.metrics import RocCurveDisplay\n",
    "class_array = [0,1,2,3,4,5]\n",
    "fig, ax = plt.subplots(figsize=(4, 6))\n",
    "\n",
    "for classes in class_array:\n",
    "    class_of_interest = classes\n",
    "    if class_of_interest == 0:\n",
    "            cur=f\" BIC\"\n",
    "    elif class_of_interest == 1:\n",
    "            cur=f\" KRCC\"\n",
    "    elif class_of_interest == 2:\n",
    "            cur=f\" LA\"\n",
    "    elif class_of_interest == 3:\n",
    "            cur=f\" LSCC\"\n",
    "    elif class_of_interest == 4:\n",
    "            cur=f\" PA\"\n",
    "    elif class_of_interest == 5:\n",
    "            cur=f\" UM\"\n",
    "    class_id = np.flatnonzero(label_binarizer.classes_ == class_of_interest)[0]\n",
    "    class_id\n",
    "    RocCurveDisplay.from_predictions(\n",
    "        y_onehot_test[:, class_id],\n",
    "        y_score[:, class_id],\n",
    "        name=f\"{cur}\",\n",
    "        #color=\"darkorange\",\n",
    "        ax = ax\n",
    "    )\n",
    "plt.plot([0, 1], [0, 1], \"k--\", label=\"chance level\")\n",
    "plt.axis(\"square\")\n",
    "plt.xlabel(\"False Positive Rate\")\n",
    "plt.ylabel(\"True Positive Rate\")\n",
    "plt.title(\"Micro-averaged One-vs-Rest\\nReceiver Operating Characteristic\")\n",
    "plt.legend()\n",
    "plt.legend(bbox_to_anchor=(1.05, 1), loc='upper left')\n",
    "plt.savefig('roc_curve_finalisedrr.png', dpi = 300,bbox_inches='tight')\n",
    "plt.show()"
   ]
  },
  {
   "cell_type": "code",
   "execution_count": 54,
   "id": "17d371c8-0d71-43fd-9c91-6a04a8e87a59",
   "metadata": {},
   "outputs": [
    {
     "name": "stdout",
     "output_type": "stream",
     "text": [
      "The validation time of the Ada model is:  28.29745783470571\n"
     ]
    }
   ],
   "source": [
    "t_0 = timeit.default_timer()\n",
    "ada_pipe = Pipeline([\n",
    "    ('feature_selection', SelectFromModel(RandomForestClassifier(), threshold=-np.inf, max_features=1316)),\n",
    "    \n",
    "    ('ada_classifier', AdaBoostClassifier(n_estimators=10, learning_rate=0.5))\n",
    "])\n",
    "\n",
    "\n",
    "tuned_score = cross_val_score(ada_pipe, X_train, y_train, cv=skf)\n",
    "t_1 = timeit.default_timer()\n",
    "\n",
    "print(\"The validation time of the Ada model is: \", t_1 - t_0)"
   ]
  },
  {
   "cell_type": "code",
   "execution_count": 57,
   "id": "f7b8b831-21dc-4348-9118-49015d8feebe",
   "metadata": {},
   "outputs": [
    {
     "name": "stdout",
     "output_type": "stream",
     "text": [
      "0.8558153299792839\n"
     ]
    }
   ],
   "source": [
    "print(np.mean(tuned_score))"
   ]
  },
  {
   "cell_type": "code",
   "execution_count": 15,
   "id": "fa3adb84-1c66-4a39-a81f-90433947b3e1",
   "metadata": {},
   "outputs": [
    {
     "data": {
      "text/html": [
       "<style>#sk-container-id-3 {color: black;background-color: white;}#sk-container-id-3 pre{padding: 0;}#sk-container-id-3 div.sk-toggleable {background-color: white;}#sk-container-id-3 label.sk-toggleable__label {cursor: pointer;display: block;width: 100%;margin-bottom: 0;padding: 0.3em;box-sizing: border-box;text-align: center;}#sk-container-id-3 label.sk-toggleable__label-arrow:before {content: \"▸\";float: left;margin-right: 0.25em;color: #696969;}#sk-container-id-3 label.sk-toggleable__label-arrow:hover:before {color: black;}#sk-container-id-3 div.sk-estimator:hover label.sk-toggleable__label-arrow:before {color: black;}#sk-container-id-3 div.sk-toggleable__content {max-height: 0;max-width: 0;overflow: hidden;text-align: left;background-color: #f0f8ff;}#sk-container-id-3 div.sk-toggleable__content pre {margin: 0.2em;color: black;border-radius: 0.25em;background-color: #f0f8ff;}#sk-container-id-3 input.sk-toggleable__control:checked~div.sk-toggleable__content {max-height: 200px;max-width: 100%;overflow: auto;}#sk-container-id-3 input.sk-toggleable__control:checked~label.sk-toggleable__label-arrow:before {content: \"▾\";}#sk-container-id-3 div.sk-estimator input.sk-toggleable__control:checked~label.sk-toggleable__label {background-color: #d4ebff;}#sk-container-id-3 div.sk-label input.sk-toggleable__control:checked~label.sk-toggleable__label {background-color: #d4ebff;}#sk-container-id-3 input.sk-hidden--visually {border: 0;clip: rect(1px 1px 1px 1px);clip: rect(1px, 1px, 1px, 1px);height: 1px;margin: -1px;overflow: hidden;padding: 0;position: absolute;width: 1px;}#sk-container-id-3 div.sk-estimator {font-family: monospace;background-color: #f0f8ff;border: 1px dotted black;border-radius: 0.25em;box-sizing: border-box;margin-bottom: 0.5em;}#sk-container-id-3 div.sk-estimator:hover {background-color: #d4ebff;}#sk-container-id-3 div.sk-parallel-item::after {content: \"\";width: 100%;border-bottom: 1px solid gray;flex-grow: 1;}#sk-container-id-3 div.sk-label:hover label.sk-toggleable__label {background-color: #d4ebff;}#sk-container-id-3 div.sk-serial::before {content: \"\";position: absolute;border-left: 1px solid gray;box-sizing: border-box;top: 0;bottom: 0;left: 50%;z-index: 0;}#sk-container-id-3 div.sk-serial {display: flex;flex-direction: column;align-items: center;background-color: white;padding-right: 0.2em;padding-left: 0.2em;position: relative;}#sk-container-id-3 div.sk-item {position: relative;z-index: 1;}#sk-container-id-3 div.sk-parallel {display: flex;align-items: stretch;justify-content: center;background-color: white;position: relative;}#sk-container-id-3 div.sk-item::before, #sk-container-id-3 div.sk-parallel-item::before {content: \"\";position: absolute;border-left: 1px solid gray;box-sizing: border-box;top: 0;bottom: 0;left: 50%;z-index: -1;}#sk-container-id-3 div.sk-parallel-item {display: flex;flex-direction: column;z-index: 1;position: relative;background-color: white;}#sk-container-id-3 div.sk-parallel-item:first-child::after {align-self: flex-end;width: 50%;}#sk-container-id-3 div.sk-parallel-item:last-child::after {align-self: flex-start;width: 50%;}#sk-container-id-3 div.sk-parallel-item:only-child::after {width: 0;}#sk-container-id-3 div.sk-dashed-wrapped {border: 1px dashed gray;margin: 0 0.4em 0.5em 0.4em;box-sizing: border-box;padding-bottom: 0.4em;background-color: white;}#sk-container-id-3 div.sk-label label {font-family: monospace;font-weight: bold;display: inline-block;line-height: 1.2em;}#sk-container-id-3 div.sk-label-container {text-align: center;}#sk-container-id-3 div.sk-container {/* jupyter's `normalize.less` sets `[hidden] { display: none; }` but bootstrap.min.css set `[hidden] { display: none !important; }` so we also need the `!important` here to be able to override the default hidden behavior on the sphinx rendered scikit-learn.org. See: https://github.com/scikit-learn/scikit-learn/issues/21755 */display: inline-block !important;position: relative;}#sk-container-id-3 div.sk-text-repr-fallback {display: none;}</style><div id=\"sk-container-id-3\" class=\"sk-top-container\"><div class=\"sk-text-repr-fallback\"><pre>Pipeline(steps=[(&#x27;feature_selection&#x27;,\n",
       "                 SelectFromModel(estimator=RandomForestClassifier(),\n",
       "                                 max_features=1316, threshold=-inf)),\n",
       "                (&#x27;ada_classifier&#x27;,\n",
       "                 AdaBoostClassifier(learning_rate=0.5, n_estimators=10))])</pre><b>In a Jupyter environment, please rerun this cell to show the HTML representation or trust the notebook. <br />On GitHub, the HTML representation is unable to render, please try loading this page with nbviewer.org.</b></div><div class=\"sk-container\" hidden><div class=\"sk-item sk-dashed-wrapped\"><div class=\"sk-label-container\"><div class=\"sk-label sk-toggleable\"><input class=\"sk-toggleable__control sk-hidden--visually\" id=\"sk-estimator-id-3\" type=\"checkbox\" ><label for=\"sk-estimator-id-3\" class=\"sk-toggleable__label sk-toggleable__label-arrow\">Pipeline</label><div class=\"sk-toggleable__content\"><pre>Pipeline(steps=[(&#x27;feature_selection&#x27;,\n",
       "                 SelectFromModel(estimator=RandomForestClassifier(),\n",
       "                                 max_features=1316, threshold=-inf)),\n",
       "                (&#x27;ada_classifier&#x27;,\n",
       "                 AdaBoostClassifier(learning_rate=0.5, n_estimators=10))])</pre></div></div></div><div class=\"sk-serial\"><div class=\"sk-item sk-dashed-wrapped\"><div class=\"sk-label-container\"><div class=\"sk-label sk-toggleable\"><input class=\"sk-toggleable__control sk-hidden--visually\" id=\"sk-estimator-id-4\" type=\"checkbox\" ><label for=\"sk-estimator-id-4\" class=\"sk-toggleable__label sk-toggleable__label-arrow\">feature_selection: SelectFromModel</label><div class=\"sk-toggleable__content\"><pre>SelectFromModel(estimator=RandomForestClassifier(), max_features=1316,\n",
       "                threshold=-inf)</pre></div></div></div><div class=\"sk-parallel\"><div class=\"sk-parallel-item\"><div class=\"sk-item\"><div class=\"sk-label-container\"><div class=\"sk-label sk-toggleable\"><input class=\"sk-toggleable__control sk-hidden--visually\" id=\"sk-estimator-id-5\" type=\"checkbox\" ><label for=\"sk-estimator-id-5\" class=\"sk-toggleable__label sk-toggleable__label-arrow\">estimator: RandomForestClassifier</label><div class=\"sk-toggleable__content\"><pre>RandomForestClassifier()</pre></div></div></div><div class=\"sk-serial\"><div class=\"sk-item\"><div class=\"sk-estimator sk-toggleable\"><input class=\"sk-toggleable__control sk-hidden--visually\" id=\"sk-estimator-id-6\" type=\"checkbox\" ><label for=\"sk-estimator-id-6\" class=\"sk-toggleable__label sk-toggleable__label-arrow\">RandomForestClassifier</label><div class=\"sk-toggleable__content\"><pre>RandomForestClassifier()</pre></div></div></div></div></div></div></div></div><div class=\"sk-item\"><div class=\"sk-estimator sk-toggleable\"><input class=\"sk-toggleable__control sk-hidden--visually\" id=\"sk-estimator-id-7\" type=\"checkbox\" ><label for=\"sk-estimator-id-7\" class=\"sk-toggleable__label sk-toggleable__label-arrow\">AdaBoostClassifier</label><div class=\"sk-toggleable__content\"><pre>AdaBoostClassifier(learning_rate=0.5, n_estimators=10)</pre></div></div></div></div></div></div></div>"
      ],
      "text/plain": [
       "Pipeline(steps=[('feature_selection',\n",
       "                 SelectFromModel(estimator=RandomForestClassifier(),\n",
       "                                 max_features=1316, threshold=-inf)),\n",
       "                ('ada_classifier',\n",
       "                 AdaBoostClassifier(learning_rate=0.5, n_estimators=10))])"
      ]
     },
     "execution_count": 15,
     "metadata": {},
     "output_type": "execute_result"
    }
   ],
   "source": [
    "t_0 = timeit.default_timer()\n",
    "ada_pipe = Pipeline([\n",
    "    ('feature_selection', SelectFromModel(RandomForestClassifier(), threshold=-np.inf, max_features=1316)),\n",
    "    \n",
    "    ('ada_classifier', AdaBoostClassifier(n_estimators=10, learning_rate=0.5))\n",
    "])\n",
    "\n",
    "ada_pipe.fit(X_train, y_train)\n",
    "#print(ada_pipe.score(X_test, y_test))\n",
    "#t_1 = timeit.default_timer()\n",
    "\n",
    "#print(\"The validation time of the Ada model is: \", t_1 - t_0)"
   ]
  },
  {
   "cell_type": "code",
   "execution_count": 16,
   "id": "809db0d5-0f1a-4a17-bc72-333c567be403",
   "metadata": {},
   "outputs": [
    {
     "data": {
      "image/png": "[encoded data removed]",
      "text/plain": [
       "<Figure size 576x432 with 2 Axes>"
      ]
     },
     "metadata": {
      "needs_background": "light"
     },
     "output_type": "display_data"
    },
    {
     "data": {
      "text/plain": [
       "array([0.90145985, 0.91911765, 0.93076923, 0.84166667, 0.65909091,\n",
       "       1.        ])"
      ]
     },
     "execution_count": 16,
     "metadata": {},
     "output_type": "execute_result"
    }
   ],
   "source": [
    "import matplotlib.pyplot as plt\n",
    "from sklearn.metrics import confusion_matrix, ConfusionMatrixDisplay\n",
    "class_labels = ['BIC', 'KRCC','LA', 'LSCC','PA', 'UM']\n",
    "y_pred_ada = ada_pipe.predict(X_test)\n",
    "cm_ada = confusion_matrix(y_test, y_pred_ada)\n",
    "disp = ConfusionMatrixDisplay(confusion_matrix=cm_ada,\n",
    "                               display_labels=class_labels)\n",
    "fig, ax = plt.subplots(figsize=(8, 6))\n",
    "disp.plot(ax=ax)\n",
    "plt.grid(False)\n",
    "plt.savefig('confusion_matrix_ada.png', dpi=300)\n",
    "plt.show()\n",
    "\n",
    "# Accuracy by class\n",
    "cm_ada.diagonal()/cm_ada.sum(axis=1)"
   ]
  },
  {
   "cell_type": "code",
   "execution_count": null,
   "id": "b5bef4d8-0c38-4865-9c19-7f10412777f1",
   "metadata": {},
   "outputs": [],
   "source": []
  },
  {
   "cell_type": "code",
   "execution_count": 68,
   "id": "1b804f08-2a0d-479a-bbd9-4577b81bdb51",
   "metadata": {},
   "outputs": [
    {
     "name": "stdout",
     "output_type": "stream",
     "text": [
      "Elapsed time to compute the importances: 0.012 seconds\n"
     ]
    },
    {
     "data": {
      "image/png": "[encoded data removed]",
      "text/plain": [
       "<Figure size 432x288 with 1 Axes>"
      ]
     },
     "metadata": {},
     "output_type": "display_data"
    }
   ],
   "source": [
    "\n",
    "feature_names = [f\"feature {i}\" for i in range(X_data.shape[1])]\n",
    "forest = RandomForestClassifier(random_state=0)\n",
    "forest.fit(X_train, y_train)\n",
    "\n",
    "\n",
    "import time\n",
    "import numpy as np\n",
    "\n",
    "start_time = time.time()\n",
    "importances = forest.feature_importances_\n",
    "std = np.std([tree.feature_importances_ for tree in forest.estimators_], axis=0)\n",
    "elapsed_time = time.time() - start_time\n",
    "\n",
    "print(f\"Elapsed time to compute the importances: {elapsed_time:.3f} seconds\")\n",
    "\n",
    "import pandas as pd\n",
    "\n",
    "forest_importances = pd.Series(importances, index=feature_names)\n",
    "\n",
    "fig, ax = plt.subplots()\n",
    "forest_importances.plot.bar(yerr=std, ax=ax)\n",
    "ax.set_title(\"Feature importances using MDI\")\n",
    "ax.set_ylabel(\"Mean decrease in impurity\")\n",
    "fig.tight_layout()\n"
   ]
  },
  {
   "cell_type": "code",
   "execution_count": null,
   "id": "f77ace88-3174-4664-8348-23a5324fa192",
   "metadata": {},
   "outputs": [],
   "source": []
  }
 ],
 "metadata": {
  "kernelspec": {
   "display_name": "Python 3.8",
   "language": "python",
   "name": "python3"
  },
  "language_info": {
   "codemirror_mode": {
    "name": "ipython",
    "version": 3
   },
   "file_extension": ".py",
   "mimetype": "text/x-python",
   "name": "python",
   "nbconvert_exporter": "python",
   "pygments_lexer": "ipython3",
   "version": "3.8.6"
  }
 },
 "nbformat": 4,
 "nbformat_minor": 5
}
