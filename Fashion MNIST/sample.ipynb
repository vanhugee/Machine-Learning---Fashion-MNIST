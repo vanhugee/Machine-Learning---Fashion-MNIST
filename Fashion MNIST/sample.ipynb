{
 "cells": [
  {
   "cell_type": "code",
   "execution_count": 2,
   "id": "loose-singapore",
   "metadata": {},
   "outputs": [],
   "source": [
    "import gzip\n",
    "import numpy as np\n",
    "import matplotlib.pyplot as plt\n",
    "\n",
    "\n",
    "def load_fashion_mnist():\n",
    "    \"\"\"\n",
    "    Loads Fashion MNIST dataset.\n",
    "    \n",
    "    Adapted from: https://github.com/zalandoresearch/fashion-mnist/blob/master/utils/mnist_reader.py\n",
    "    \"\"\"\n",
    "    TRAIN_IMAGES = 'train-images-idx3-ubyte.gz'\n",
    "    TRAIN_LABELS = 'train-labels-idx1-ubyte.gz'    \n",
    "    TEST_IMAGES = 't10k-images-idx3-ubyte.gz'\n",
    "    TEST_LABELS = 't10k-labels-idx1-ubyte.gz'\n",
    "\n",
    "    with gzip.open(TRAIN_LABELS, 'rb') as tr_labels_file, gzip.open(TEST_LABELS, 'rb') as ts_labels_file:\n",
    "        train_labels = np.frombuffer(tr_labels_file.read(), dtype=np.uint8, offset=8)\n",
    "        test_labels = np.frombuffer(ts_labels_file.read(), dtype=np.uint8, offset=8)\n",
    "\n",
    "    with gzip.open(TRAIN_IMAGES, 'rb') as tr_images_file, gzip.open(TEST_IMAGES, 'rb') as ts_images_file:\n",
    "        train_images = np.frombuffer(tr_images_file.read(), dtype=np.uint8, offset=16).reshape(len(train_labels), 784)\n",
    "        test_images = np.frombuffer(ts_images_file.read(), dtype=np.uint8, offset=16).reshape(len(test_labels), 784)\n",
    "\n",
    "    return train_images, train_labels, test_images, test_labels"
   ]
  },
  {
   "cell_type": "code",
   "execution_count": 6,
   "id": "civilian-shift",
   "metadata": {},
   "outputs": [],
   "source": [
    "def pretty_print(image_example):\n",
    "    \"\"\" Pretty prints a Fashion MNIST example.\n",
    "\n",
    "    Parameters:\n",
    "        image_example: a 1x784 numpy array corresponding to the features of\n",
    "                       a single image.\n",
    "\n",
    "    Returns:\n",
    "        None.\n",
    "    \"\"\"\n",
    "    print(np.array_str(image_example, precision=1, max_line_width=116))\n"
   ]
  },
  {
   "cell_type": "code",
   "execution_count": 7,
   "id": "valuable-university",
   "metadata": {},
   "outputs": [],
   "source": [
    "def usage_example():\n",
    "    \"\"\" Example of how to load and parse Fashion MNIST data. \"\"\"\n",
    "    \n",
    "    train_images, train_labels, test_images, test_labels = load_fashion_mnist()\n",
    "\n",
    "    # train_images is a 60,000 x 784 numpy matrix. There are 60k\n",
    "    # rows in the matrix, each row corresponding to a single example.\n",
    "    # There are 784 columns, each corresponding to the value of a\n",
    "    # single pixel in the 28x28 image after it has been \"flattened\".\n",
    "    print(\"Dimensions of training set feature matrix:\", train_images.shape)\n",
    "\n",
    "    # The labels for each example are maintained separately in train_labels.\n",
    "    # This is a 60,000 x 1 numpy matrix, where each element is the label\n",
    "    # for the corresponding training example.\n",
    "    print(\"Dimensions of training set label matrix:\", train_labels.shape)\n",
    "\n",
    "    # Example of how to access a individual training example (in this case,\n",
    "    # we pick an example at a random index). We could use print to output the\n",
    "    # raw pixel values to the screen, but pretty_print formats the data in \n",
    "    # a nicer way: if you squint, you may be able to make out the contours of\n",
    "    # the fashion article in the matrix data.\n",
    "    EXAMPLE_INDEX = np.random.randint(60000)\n",
    "    print(\"Features of training example at index {}:\\n\".format(EXAMPLE_INDEX))\n",
    "    pretty_print(train_images[EXAMPLE_INDEX])\n",
    "\n",
    "    # And here's the label that goes with that training example\n",
    "    print(\"\\nLabel of training example at index {}:\".format(EXAMPLE_INDEX), train_labels[EXAMPLE_INDEX], '\\n')\n",
    "\n",
    "    # Finally, let's visualize the example we've picked as a 28x28 image\n",
    "    plt.figure()\n",
    "    plt.imshow(train_images[EXAMPLE_INDEX].reshape(28, 28))\n",
    "    plt.show()\n",
    "    \n",
    "    # The test_images/test_labels are organized in the same way, but only contain 10k\n",
    "    # examples. Don't touch this data until your model is frozen! Perform all\n",
    "    # cross-validation, model selection, hyperparameter tuning etc. on the 60k\n",
    "    # training set. Use the test set simply for reporting performance.\n"
   ]
  },
  {
   "cell_type": "code",
   "execution_count": 8,
   "id": "international-lemon",
   "metadata": {},
   "outputs": [
    {
     "name": "stdout",
     "output_type": "stream",
     "text": [
      "Dimensions of training set feature matrix: (60000, 784)\n",
      "Dimensions of training set label matrix: (60000,)\n",
      "Features of training example at index 20105:\n",
      "\n",
      "[  0   0   1   0   0   0   4  20  20  21  12   0   0   0   0   0   0   0  23  27  18   3   0   0   0   0   0   0\n",
      "   0   0   0   0   0  15  31  21  16   1  59  15   0   2   0   0   9  23  12  10  20  35  12   0   0   0   0   0\n",
      "   0   0   1   0   7  28  19  18  15   5  19 108   0   0   0  11  88   7  12  18  14  14  36   5   0   1   0   0\n",
      "   0   0   1   0  12  28  15  18  14  14   0  43  92  52  36 113  17   1  17  15  16  17  31  18   0   1   0   0\n",
      "   0   0   0   0  19  25  20  15  17  11  12   0  35 133 181  71   0  20  14  16  14  18  23  30   0   0   0   0\n",
      "   0   0   0   0  27  23  22  11  19  10  14   8   0  14  34   0  10  10  12  15  14  25  27  25   0   0   0   0\n",
      "   0   0   0   1  28  24  28  15  17  15  18  14  14  11   3  21  15  15  18  17  16  20  27  28   8   0   0   0\n",
      "   0   0   0   5  29  27  28  21  21   3   0   0   0   0   0   0   0   0  14  21  18  22  34  28   7   0   0   0\n",
      "   0   0   0  10  31  38  28   8   0  47  84  94  89  85  87  81  72  55  19  12  20  24  35  28  16   0   0   0\n",
      "   0   0   0   0   0  35  43  24 105  75  62  59  58  58  58  58  63  96  94  24   7  21  44  11   0   0   0   0\n",
      "   0   0   0  70  90  87  16  73  74  77  85  81  78  76  79  79  76  74  69 122  96   0  35  52  83   0   0   0\n",
      "   0   0   0  46  51 126 138  95  71  66  63  62  69  68  65  58  56  59  90  29  76  90 126 102  46   0   0   0\n",
      "   0   0   0  72  74 127 103  39  59  94  70  58  58  56  58  63  75  61  96 104  61  90 117  86  87   0   0   0\n",
      "   0   0   0  81  50 122 138  12  91  85  68  85  82  74  78  81  78  70  69  69  10 132 145  56  63  15   0   0\n",
      "   0   0   0  70  63 124 164   0  85  75  61  57  64  65  58  57  66  70  55 117   0 155 150  64  84   7   0   0\n",
      "   0   0  16  95  84 133  74   7 118  58  70  60  58  55  57  68  70  79  56  99  17 148 142  55  96  34   0   0\n",
      "   0   0  15  89  79 155  43   5  51  34  64  75  87  83  65  54  43  42  31  47   0 118 155  68  76  23   0   0\n",
      "   0   0   0  46  87 127  29 191 192 158 165 154 159 158 155 162 157 158 160 156 139  86 163  85  82  31   0   0\n",
      "   0   0  52 133 141 148  28 102  61  81  59  35  46  51  79 105 103  98 104  99 127  58 139 103  69  30   0   0\n",
      "   0   0  76 189 168 255   0   0   0   0   0   0   0   0   0   0   0   0   0   0   0  31 227 186 217 118   0   0\n",
      "   0   0   0   0   0  47  42 159 163 177 151 158 153 128  96 103 126 112 128 132 129  51 129  48  16   0   0   0\n",
      "   0   0  47  94 143 112  61 178 177 160 159 188 160 190 184 163 177 158 185 181 188  63 111  46  24   0   0   0\n",
      "   0   0 116 197 199 168   0   0   0   0   0   0   1  15  34  30  41  11   0   0   0   0 253 194 212 110   0   0\n",
      "   0   0   0   0  49  14  25 156 123 136 106 106  71  39  25   3  60  83  65  73  91  12 126 113  54  20   0   0\n",
      "   0   0  24  57 118  21  55 202 119 128 136 153 144 146 203 164 152 175 150 140 219  48  55  74   0   0   0   0\n",
      "   0   0 115 157 193  68   0   0   0   0   5  17   2  19  31  22   1  18  10   0  21   0 148 200 152 104   0   0\n",
      "   0   0  15  19  74  18   0   0   0   0   0   0   0   0   0   0   0   0   0   0   0   0  59 114  52  25   0   0\n",
      "   0   0   0   0  17   0   0   1   0   0   0   0   0   0   0   0   0   0   0   0   0   0   6  19   0   0   0   0]\n",
      "\n",
      "Label of training example at index 20105: 2 \n",
      "\n"
     ]
    },
    {
     "data": {
      "image/png": "[encoded data removed]",
      "text/plain": [
       "<Figure size 432x288 with 1 Axes>"
      ]
     },
     "metadata": {
      "needs_background": "light"
     },
     "output_type": "display_data"
    }
   ],
   "source": [
    "usage_example()"
   ]
  },
  {
   "cell_type": "code",
   "execution_count": null,
   "id": "e77b01a5-665e-432a-b325-42ffbb439170",
   "metadata": {},
   "outputs": [],
   "source": []
  }
 ],
 "metadata": {
  "kernelspec": {
   "display_name": "Python 3.8",
   "language": "python",
   "name": "python3"
  },
  "language_info": {
   "codemirror_mode": {
    "name": "ipython",
    "version": 3
   },
   "file_extension": ".py",
   "mimetype": "text/x-python",
   "name": "python",
   "nbconvert_exporter": "python",
   "pygments_lexer": "ipython3",
   "version": "3.8.6"
  }
 },
 "nbformat": 4,
 "nbformat_minor": 5
}
